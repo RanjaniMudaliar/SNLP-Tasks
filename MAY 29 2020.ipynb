{
 "cells": [
  {
   "cell_type": "code",
   "execution_count": 1,
   "metadata": {},
   "outputs": [],
   "source": [
    "#Task 1 Demonstrating COCA\n",
    "#HW: Explore COCA for 3 different search strings (one personality) or all 3 can be names too\n",
    "#under coca 3 januras"
   ]
  },
  {
   "cell_type": "code",
   "execution_count": 12,
   "metadata": {},
   "outputs": [
    {
     "data": {
      "text/plain": [
       "'someth'"
      ]
     },
     "execution_count": 12,
     "metadata": {},
     "output_type": "execute_result"
    }
   ],
   "source": [
    "#Task 2 Stemming:\n",
    "import nltk\n",
    "from nltk.stem import PorterStemmer\n",
    "stemmerporter = PorterStemmer()\n",
    "stemmerporter.stem('happiness') #correct Stemming\n",
    "stemmerporter.stem('Drinking') #correct stemming\n",
    "stemmerporter.stem('mercyful') \n",
    "stemmerporter.stem('megabyte') #worng stemming\n",
    "stemmerporter.stem('something') #wrong stemming\n",
    "#read about porter stemmer"
   ]
  },
  {
   "cell_type": "code",
   "execution_count": 13,
   "metadata": {},
   "outputs": [
    {
     "data": {
      "text/plain": [
       "'happy'"
      ]
     },
     "execution_count": 13,
     "metadata": {},
     "output_type": "execute_result"
    }
   ],
   "source": [
    "#using another stemmer \n",
    "from nltk.stem import LancasterStemmer\n",
    "stemmerLan = LancasterStemmer()\n",
    "stemmerLan.stem('happiness')"
   ]
  },
  {
   "cell_type": "code",
   "execution_count": 14,
   "metadata": {},
   "outputs": [
    {
     "data": {
      "text/plain": [
       "'s'"
      ]
     },
     "execution_count": 14,
     "metadata": {},
     "output_type": "execute_result"
    }
   ],
   "source": [
    "#Regexstemmer can be used \n",
    "import nltk\n",
    "from nltk.stem import RegexpStemmer\n",
    "stemmerregexp = RegexpStemmer('ing')\n",
    "stemmerregexp.stem('singing')"
   ]
  },
  {
   "cell_type": "code",
   "execution_count": 16,
   "metadata": {},
   "outputs": [
    {
     "data": {
      "text/plain": [
       "'mang'"
      ]
     },
     "execution_count": 16,
     "metadata": {},
     "output_type": "execute_result"
    }
   ],
   "source": [
    "#multilingual stemma\n",
    "from nltk.stem import SnowballStemmer\n",
    "SnowballStemmer.languages\n",
    "frenchstemmer = SnowballStemmer('french')\n",
    "frenchstemmer.stem('manges')"
   ]
  },
  {
   "cell_type": "code",
   "execution_count": 20,
   "metadata": {},
   "outputs": [
    {
     "ename": "ValueError",
     "evalue": "The language 'Tamil' is not supported.",
     "output_type": "error",
     "traceback": [
      "\u001b[1;31m---------------------------------------------------------------------------\u001b[0m",
      "\u001b[1;31mValueError\u001b[0m                                Traceback (most recent call last)",
      "\u001b[1;32m<ipython-input-20-f97295206034>\u001b[0m in \u001b[0;36m<module>\u001b[1;34m\u001b[0m\n\u001b[0;32m      1\u001b[0m \u001b[1;32mfrom\u001b[0m \u001b[0mnltk\u001b[0m\u001b[1;33m.\u001b[0m\u001b[0mstem\u001b[0m \u001b[1;32mimport\u001b[0m \u001b[0mSnowballStemmer\u001b[0m\u001b[1;33m\u001b[0m\u001b[1;33m\u001b[0m\u001b[0m\n\u001b[0;32m      2\u001b[0m \u001b[0mSnowballStemmer\u001b[0m\u001b[1;33m.\u001b[0m\u001b[0mlanguages\u001b[0m\u001b[1;33m\u001b[0m\u001b[1;33m\u001b[0m\u001b[0m\n\u001b[1;32m----> 3\u001b[1;33m \u001b[0mTamilstemmer\u001b[0m \u001b[1;33m=\u001b[0m \u001b[0mSnowballStemmer\u001b[0m\u001b[1;33m(\u001b[0m\u001b[1;34m'Tamil'\u001b[0m\u001b[1;33m)\u001b[0m\u001b[1;33m\u001b[0m\u001b[1;33m\u001b[0m\u001b[0m\n\u001b[0m\u001b[0;32m      4\u001b[0m \u001b[0mTamilstemmer\u001b[0m\u001b[1;33m.\u001b[0m\u001b[0mstem\u001b[0m\u001b[1;33m(\u001b[0m\u001b[1;34m'manges'\u001b[0m\u001b[1;33m)\u001b[0m\u001b[1;33m\u001b[0m\u001b[1;33m\u001b[0m\u001b[0m\n",
      "\u001b[1;32m~\\Anaconda3\\lib\\site-packages\\nltk\\stem\\snowball.py\u001b[0m in \u001b[0;36m__init__\u001b[1;34m(self, language, ignore_stopwords)\u001b[0m\n\u001b[0;32m    109\u001b[0m     \u001b[1;32mdef\u001b[0m \u001b[0m__init__\u001b[0m\u001b[1;33m(\u001b[0m\u001b[0mself\u001b[0m\u001b[1;33m,\u001b[0m \u001b[0mlanguage\u001b[0m\u001b[1;33m,\u001b[0m \u001b[0mignore_stopwords\u001b[0m\u001b[1;33m=\u001b[0m\u001b[1;32mFalse\u001b[0m\u001b[1;33m)\u001b[0m\u001b[1;33m:\u001b[0m\u001b[1;33m\u001b[0m\u001b[1;33m\u001b[0m\u001b[0m\n\u001b[0;32m    110\u001b[0m         \u001b[1;32mif\u001b[0m \u001b[0mlanguage\u001b[0m \u001b[1;32mnot\u001b[0m \u001b[1;32min\u001b[0m \u001b[0mself\u001b[0m\u001b[1;33m.\u001b[0m\u001b[0mlanguages\u001b[0m\u001b[1;33m:\u001b[0m\u001b[1;33m\u001b[0m\u001b[1;33m\u001b[0m\u001b[0m\n\u001b[1;32m--> 111\u001b[1;33m             \u001b[1;32mraise\u001b[0m \u001b[0mValueError\u001b[0m\u001b[1;33m(\u001b[0m\u001b[1;34m\"The language '{0}' is not supported.\"\u001b[0m\u001b[1;33m.\u001b[0m\u001b[0mformat\u001b[0m\u001b[1;33m(\u001b[0m\u001b[0mlanguage\u001b[0m\u001b[1;33m)\u001b[0m\u001b[1;33m)\u001b[0m\u001b[1;33m\u001b[0m\u001b[1;33m\u001b[0m\u001b[0m\n\u001b[0m\u001b[0;32m    112\u001b[0m         \u001b[0mstemmerclass\u001b[0m \u001b[1;33m=\u001b[0m \u001b[0mglobals\u001b[0m\u001b[1;33m(\u001b[0m\u001b[1;33m)\u001b[0m\u001b[1;33m[\u001b[0m\u001b[0mlanguage\u001b[0m\u001b[1;33m.\u001b[0m\u001b[0mcapitalize\u001b[0m\u001b[1;33m(\u001b[0m\u001b[1;33m)\u001b[0m \u001b[1;33m+\u001b[0m \u001b[1;34m\"Stemmer\"\u001b[0m\u001b[1;33m]\u001b[0m\u001b[1;33m\u001b[0m\u001b[1;33m\u001b[0m\u001b[0m\n\u001b[0;32m    113\u001b[0m         \u001b[0mself\u001b[0m\u001b[1;33m.\u001b[0m\u001b[0mstemmer\u001b[0m \u001b[1;33m=\u001b[0m \u001b[0mstemmerclass\u001b[0m\u001b[1;33m(\u001b[0m\u001b[0mignore_stopwords\u001b[0m\u001b[1;33m)\u001b[0m\u001b[1;33m\u001b[0m\u001b[1;33m\u001b[0m\u001b[0m\n",
      "\u001b[1;31mValueError\u001b[0m: The language 'Tamil' is not supported."
     ]
    }
   ],
   "source": [
    "from nltk.stem import SnowballStemmer\n",
    "SnowballStemmer.languages\n",
    "Tamilstemmer = SnowballStemmer('Tamil')\n",
    "Tamilstemmer.stem('manges')"
   ]
  },
  {
   "cell_type": "code",
   "execution_count": null,
   "metadata": {},
   "outputs": [],
   "source": [
    "#HW 3 Demonstrate snownball stemming in Hindi / Tamil / french optional"
   ]
  },
  {
   "cell_type": "code",
   "execution_count": 19,
   "metadata": {},
   "outputs": [
    {
     "name": "stdout",
     "output_type": "stream",
     "text": [
      "Am quick brown fox jump over a lazi dog\n"
     ]
    }
   ],
   "source": [
    "#Task 3 Stemming a paragraph\n",
    "from nltk.stem import PorterStemmer\n",
    "\n",
    "stemmer = PorterStemmer()\n",
    "example = \"Am quick brown fox jumps over a lazy dog\"\n",
    "example = [stemmer.stem(token) for token in example.split(\" \")]\n",
    "print(\" \".join(example))"
   ]
  },
  {
   "cell_type": "code",
   "execution_count": 23,
   "metadata": {},
   "outputs": [
    {
     "name": "stdout",
     "output_type": "stream",
     "text": [
      "cactus\n"
     ]
    }
   ],
   "source": [
    "#Task 4: Lemmatizer\n",
    "from nltk.stem import WordNetLemmatizer \n",
    "lemmatizer = WordNetLemmatizer()\n",
    "print(lemmatizer.lemmatize(\"cacti\"))"
   ]
  },
  {
   "cell_type": "code",
   "execution_count": 32,
   "metadata": {},
   "outputs": [
    {
     "name": "stdout",
     "output_type": "stream",
     "text": [
      "better\n"
     ]
    }
   ],
   "source": [
    "print(lemmatizer.lemmatize(\"better\"))"
   ]
  },
  {
   "cell_type": "code",
   "execution_count": 33,
   "metadata": {},
   "outputs": [
    {
     "name": "stdout",
     "output_type": "stream",
     "text": [
      "good\n"
     ]
    }
   ],
   "source": [
    "print(lemmatizer.lemmatize(\"better\", pos='a'))"
   ]
  },
  {
   "cell_type": "code",
   "execution_count": 34,
   "metadata": {},
   "outputs": [
    {
     "name": "stdout",
     "output_type": "stream",
     "text": [
      "Am\n"
     ]
    }
   ],
   "source": [
    "print(lemmatizer.lemmatize(\"Am\"))"
   ]
  },
  {
   "cell_type": "code",
   "execution_count": 46,
   "metadata": {},
   "outputs": [
    {
     "name": "stdout",
     "output_type": "stream",
     "text": [
      "Am\n"
     ]
    }
   ],
   "source": [
    "print(lemmatizer.lemmatize(\"Am\",pos = 'v'))"
   ]
  },
  {
   "cell_type": "code",
   "execution_count": 43,
   "metadata": {},
   "outputs": [
    {
     "name": "stderr",
     "output_type": "stream",
     "text": [
      "Building prefix dict from the default dictionary ...\n",
      "Dumping model to file cache C:\\Users\\hp\\AppData\\Local\\Temp\\jieba.cache\n",
      "Loading model cost 0.766 seconds.\n",
      "Prefix dict has been built successfully.\n"
     ]
    },
    {
     "name": "stdout",
     "output_type": "stream",
     "text": [
      "你 在 做 什么\n"
     ]
    }
   ],
   "source": [
    "#TAsk 5 Chinese Segmentation using JIEBA\n",
    "import jieba\n",
    "seg = jieba.cut(\"你在做什么\", cut_all = True)\n",
    "print(\" \".join(seg))"
   ]
  },
  {
   "cell_type": "code",
   "execution_count": 48,
   "metadata": {},
   "outputs": [
    {
     "name": "stdout",
     "output_type": "stream",
     "text": [
      "['Become', 'an', 'expert', 'in', 'NLP', '!']\n"
     ]
    }
   ],
   "source": [
    "#hanlp and stanford nlp read and can use them also and experiment them also\n",
    "# Task 6: Basic Text Processing Pipeline\n",
    "import nltk\n",
    "sent = \"Become an expert in NLP!\"\n",
    "words = nltk.word_tokenize(sent)\n",
    "print(words)"
   ]
  },
  {
   "cell_type": "code",
   "execution_count": 54,
   "metadata": {},
   "outputs": [
    {
     "name": "stdout",
     "output_type": "stream",
     "text": [
      "['Translation', 'history', 'will', 'soon', 'only', 'be', 'available', 'when', 'you', 'are', 'signed', 'in', 'and', 'will', 'be', 'centrally', 'managed', 'within', 'My', 'Activity', '.']\n",
      "['Past', 'history', 'will', 'be', 'cleared', 'during', 'this', 'upgrade', ',', 'so', 'make', 'sure', 'to', 'save', 'translations', 'you', 'want', 'to', 'remember', 'for', 'ease', 'of', 'access', 'later', '.']\n",
      "['Translation', 'history', 'will', 'soon', 'only', 'be', 'available', 'when', 'you', 'are', 'signed', 'in', 'and', 'will', 'be', 'centrally', 'managed', 'within', 'My', 'Activity', '.']\n",
      "['Past', 'history', 'will', 'be', 'cleared', 'during', 'this', 'upgrade', ',', 'so', 'make', 'sure', 'to', 'save', 'translations', 'you', 'want', 'to', 'remember', 'for', 'ease', 'of', 'access', 'later', '.']\n",
      "['Translation', 'history', 'will', 'soon', 'only', 'be', 'available', 'when', 'you', 'are', 'signed', 'in', 'and', 'will', 'be', 'centrally', 'managed', 'within', 'My', 'Activity', '.']\n",
      "['Past', 'history', 'will', 'be', 'cleared', 'during', 'this', 'upgrade', ',', 'so', 'make', 'sure', 'to', 'save', 'translations', 'you', 'want', 'to', 'remember', 'for', 'ease', 'of', 'access', 'later', '.']\n",
      "['Translation', 'history', 'will', 'soon', 'only', 'be', 'available', 'when', 'you', 'are', 'signed', 'in', 'and', 'will', 'be', 'centrally', 'managed', 'within', 'My', 'Activity', '.']\n",
      "['Past', 'history', 'will', 'be', 'cleared', 'during', 'this', 'upgrade', ',', 'so', 'make', 'sure', 'to', 'save', 'translations', 'you', 'want', 'to', 'remember', 'for', 'ease', 'of', 'access', 'later', '.']\n",
      "['Translation', 'history', 'will', 'soon', 'only', 'be', 'available', 'when', 'you', 'are', 'signed', 'in', 'and', 'will', 'be', 'centrally', 'managed', 'within', 'My', 'Activity', '.']\n",
      "['Past', 'history', 'will', 'be', 'cleared', 'during', 'this', 'upgrade', ',', 'so', 'make', 'sure', 'to', 'save', 'translations', 'you', 'want', 'to', 'remember', 'for', 'ease', 'of', 'access', 'later', '.']\n",
      "['Translation', 'history', 'will', 'soon', 'only', 'be', 'available', 'when', 'you', 'are', 'signed', 'in', 'and', 'will', 'be', 'centrally', 'managed', 'within', 'My', 'Activity', '.']\n",
      "['Past', 'history', 'will', 'be', 'cleared', 'during', 'this', 'upgrade', ',', 'so', 'make', 'sure', 'to', 'save', 'translations', 'you', 'want', 'to', 'remember', 'for', 'ease', 'of', 'access', 'later', '.']\n",
      "['Translation', 'history', 'will', 'soon', 'only', 'be', 'available', 'when', 'you', 'are', 'signed', 'in', 'and', 'will', 'be', 'centrally', 'managed', 'within', 'My', 'Activity', '.']\n",
      "['Past', 'history', 'will', 'be', 'cleared', 'during', 'this', 'upgrade', ',', 'so', 'make', 'sure', 'to', 'save', 'translations', 'you', 'want', 'to', 'remember', 'for', 'ease', 'of', 'access', 'later', '.']\n",
      "['Translation', 'history', 'will', 'soon', 'only', 'be', 'available', 'when', 'you', 'are', 'signed', 'in', 'and', 'will', 'be', 'centrally', 'managed', 'within', 'My', 'Activity', '.']\n",
      "['Past', 'history', 'will', 'be', 'cleared', 'during', 'this', 'upgrade', ',', 'so', 'make', 'sure', 'to', 'save', 'translations', 'you', 'want', 'to', 'remember', 'for', 'ease', 'of', 'access', 'later', '.']\n",
      "['Translation', 'history', 'will', 'soon', 'only', 'be', 'available', 'when', 'you', 'are', 'signed', 'in', 'and', 'will', 'be', 'centrally', 'managed', 'within', 'My', 'Activity', '.']\n",
      "['Past', 'history', 'will', 'be', 'cleared', 'during', 'this', 'upgrade', ',', 'so', 'make', 'sure', 'to', 'save', 'translations', 'you', 'want', 'to', 'remember', 'for', 'ease', 'of', 'access', 'later', '.']\n",
      "['Translation', 'history', 'will', 'soon', 'only', 'be', 'available', 'when', 'you', 'are', 'signed', 'in', 'and', 'will', 'be', 'centrally', 'managed', 'within', 'My', 'Activity', '.']\n",
      "['Past', 'history', 'will', 'be', 'cleared', 'during', 'this', 'upgrade', ',', 'so', 'make', 'sure', 'to', 'save', 'translations', 'you', 'want', 'to', 'remember', 'for', 'ease', 'of', 'access', 'later', '.']\n",
      "['Translation', 'history', 'will', 'soon', 'only', 'be', 'available', 'when', 'you', 'are', 'signed', 'in', 'and', 'will', 'be', 'centrally', 'managed', 'within', 'My', 'Activity', '.']\n",
      "['Past', 'history', 'will', 'be', 'cleared', 'during', 'this', 'upgrade', ',', 'so', 'make', 'sure', 'to', 'save', 'translations', 'you', 'want', 'to', 'remember', 'for', 'ease', 'of', 'access', 'later', '.']\n",
      "['Translation', 'history', 'will', 'soon', 'only', 'be', 'available', 'when', 'you', 'are', 'signed', 'in', 'and', 'will', 'be', 'centrally', 'managed', 'within', 'My', 'Activity', '.']\n",
      "['Past', 'history', 'will', 'be', 'cleared', 'during', 'this', 'upgrade', ',', 'so', 'make', 'sure', 'to', 'save', 'translations', 'you', 'want', 'to', 'remember', 'for', 'ease', 'of', 'access', 'later', '.']\n",
      "['Translation', 'history', 'will', 'soon', 'only', 'be', 'available', 'when', 'you', 'are', 'signed', 'in', 'and', 'will', 'be', 'centrally', 'managed', 'within', 'My', 'Activity', '.']\n",
      "['Past', 'history', 'will', 'be', 'cleared', 'during', 'this', 'upgrade', ',', 'so', 'make', 'sure', 'to', 'save', 'translations', 'you', 'want', 'to', 'remember', 'for', 'ease', 'of', 'access', 'later', '.']\n",
      "['Translation', 'history', 'will', 'soon', 'only', 'be', 'available', 'when', 'you', 'are', 'signed', 'in', 'and', 'will', 'be', 'centrally', 'managed', 'within', 'My', 'Activity', '.']\n",
      "['Past', 'history', 'will', 'be', 'cleared', 'during', 'this', 'upgrade', ',', 'so', 'make', 'sure', 'to', 'save', 'translations', 'you', 'want', 'to', 'remember', 'for', 'ease', 'of', 'access', 'later', '.']\n",
      "['Translation', 'history', 'will', 'soon', 'only', 'be', 'available', 'when', 'you', 'are', 'signed', 'in', 'and', 'will', 'be', 'centrally', 'managed', 'within', 'My', 'Activity', '.']\n",
      "['Past', 'history', 'will', 'be', 'cleared', 'during', 'this', 'upgrade', ',', 'so', 'make', 'sure', 'to', 'save', 'translations', 'you', 'want', 'to', 'remember', 'for', 'ease', 'of', 'access', 'later', '.']\n",
      "['Translation', 'history', 'will', 'soon', 'only', 'be', 'available', 'when', 'you', 'are', 'signed', 'in', 'and', 'will', 'be', 'centrally', 'managed', 'within', 'My', 'Activity', '.']\n",
      "['Past', 'history', 'will', 'be', 'cleared', 'during', 'this', 'upgrade', ',', 'so', 'make', 'sure', 'to', 'save', 'translations', 'you', 'want', 'to', 'remember', 'for', 'ease', 'of', 'access', 'later', '.']\n",
      "['Translation', 'history', 'will', 'soon', 'only', 'be', 'available', 'when', 'you', 'are', 'signed', 'in', 'and', 'will', 'be', 'centrally', 'managed', 'within', 'My', 'Activity', '.']\n",
      "['Past', 'history', 'will', 'be', 'cleared', 'during', 'this', 'upgrade', ',', 'so', 'make', 'sure', 'to', 'save', 'translations', 'you', 'want', 'to', 'remember', 'for', 'ease', 'of', 'access', 'later', '.']\n",
      "['Translation', 'history', 'will', 'soon', 'only', 'be', 'available', 'when', 'you', 'are', 'signed', 'in', 'and', 'will', 'be', 'centrally', 'managed', 'within', 'My', 'Activity', '.']\n",
      "['Past', 'history', 'will', 'be', 'cleared', 'during', 'this', 'upgrade', ',', 'so', 'make', 'sure', 'to', 'save', 'translations', 'you', 'want', 'to', 'remember', 'for', 'ease', 'of', 'access', 'later', '.']\n",
      "['Translation', 'history', 'will', 'soon', 'only', 'be', 'available', 'when', 'you', 'are', 'signed', 'in', 'and', 'will', 'be', 'centrally', 'managed', 'within', 'My', 'Activity', '.']\n",
      "['Past', 'history', 'will', 'be', 'cleared', 'during', 'this', 'upgrade', ',', 'so', 'make', 'sure', 'to', 'save', 'translations', 'you', 'want', 'to', 'remember', 'for', 'ease', 'of', 'access', 'later', '.']\n",
      "['Translation', 'history', 'will', 'soon', 'only', 'be', 'available', 'when', 'you', 'are', 'signed', 'in', 'and', 'will', 'be', 'centrally', 'managed', 'within', 'My', 'Activity', '.']\n",
      "['Past', 'history', 'will', 'be', 'cleared', 'during', 'this', 'upgrade', ',', 'so', 'make', 'sure', 'to', 'save', 'translations', 'you', 'want', 'to', 'remember', 'for', 'ease', 'of', 'access', 'later', '.']\n",
      "['Translation', 'history', 'will', 'soon', 'only', 'be', 'available', 'when', 'you', 'are', 'signed', 'in', 'and', 'will', 'be', 'centrally', 'managed', 'within', 'My', 'Activity', '.']\n",
      "['Past', 'history', 'will', 'be', 'cleared', 'during', 'this', 'upgrade', ',', 'so', 'make', 'sure', 'to', 'save', 'translations', 'you', 'want', 'to', 'remember', 'for', 'ease', 'of', 'access', 'later', '.']\n",
      "['Translation', 'history', 'will', 'soon', 'only', 'be', 'available', 'when', 'you', 'are', 'signed', 'in', 'and', 'will', 'be', 'centrally', 'managed', 'within', 'My', 'Activity', '.']\n",
      "['Past', 'history', 'will', 'be', 'cleared', 'during', 'this', 'upgrade', ',', 'so', 'make', 'sure', 'to', 'save', 'translations', 'you', 'want', 'to', 'remember', 'for', 'ease', 'of', 'access', 'later', '.']\n",
      "['Translation', 'history', 'will', 'soon', 'only', 'be', 'available', 'when', 'you', 'are', 'signed', 'in', 'and', 'will', 'be', 'centrally', 'managed', 'within', 'My', 'Activity', '.']\n",
      "['Past', 'history', 'will', 'be', 'cleared', 'during', 'this', 'upgrade', ',', 'so', 'make', 'sure', 'to', 'save', 'translations', 'you', 'want', 'to', 'remember', 'for', 'ease', 'of', 'access', 'later', '.']\n",
      "['Translation', 'history', 'will', 'soon', 'only', 'be', 'available', 'when', 'you', 'are', 'signed', 'in', 'and', 'will', 'be', 'centrally', 'managed', 'within', 'My', 'Activity', '.']\n",
      "['Past', 'history', 'will', 'be', 'cleared', 'during', 'this', 'upgrade', ',', 'so', 'make', 'sure', 'to', 'save', 'translations', 'you', 'want', 'to', 'remember', 'for', 'ease', 'of', 'access', 'later', '.']\n",
      "['Translation', 'history', 'will', 'soon', 'only', 'be', 'available', 'when', 'you', 'are', 'signed', 'in', 'and', 'will', 'be', 'centrally', 'managed', 'within', 'My', 'Activity', '.']\n",
      "['Past', 'history', 'will', 'be', 'cleared', 'during', 'this', 'upgrade', ',', 'so', 'make', 'sure', 'to', 'save', 'translations', 'you', 'want', 'to', 'remember', 'for', 'ease', 'of', 'access', 'later', '.']\n",
      "['Translation', 'history', 'will', 'soon', 'only', 'be', 'available', 'when', 'you', 'are', 'signed', 'in', 'and', 'will', 'be', 'centrally', 'managed', 'within', 'My', 'Activity', '.']\n",
      "['Past', 'history', 'will', 'be', 'cleared', 'during', 'this', 'upgrade', ',', 'so', 'make', 'sure', 'to', 'save', 'translations', 'you', 'want', 'to', 'remember', 'for', 'ease', 'of', 'access', 'later', '.']\n",
      "['Translation', 'history', 'will', 'soon', 'only', 'be', 'available', 'when', 'you', 'are', 'signed', 'in', 'and', 'will', 'be', 'centrally', 'managed', 'within', 'My', 'Activity', '.']\n",
      "['Past', 'history', 'will', 'be', 'cleared', 'during', 'this', 'upgrade', ',', 'so', 'make', 'sure', 'to', 'save', 'translations', 'you', 'want', 'to', 'remember', 'for', 'ease', 'of', 'access', 'later', '.']\n",
      "['Translation', 'history', 'will', 'soon', 'only', 'be', 'available', 'when', 'you', 'are', 'signed', 'in', 'and', 'will', 'be', 'centrally', 'managed', 'within', 'My', 'Activity', '.']\n",
      "['Past', 'history', 'will', 'be', 'cleared', 'during', 'this', 'upgrade', ',', 'so', 'make', 'sure', 'to', 'save', 'translations', 'you', 'want', 'to', 'remember', 'for', 'ease', 'of', 'access', 'later', '.']\n",
      "['Translation', 'history', 'will', 'soon', 'only', 'be', 'available', 'when', 'you', 'are', 'signed', 'in', 'and', 'will', 'be', 'centrally', 'managed', 'within', 'My', 'Activity', '.']\n",
      "['Past', 'history', 'will', 'be', 'cleared', 'during', 'this', 'upgrade', ',', 'so', 'make', 'sure', 'to', 'save', 'translations', 'you', 'want', 'to', 'remember', 'for', 'ease', 'of', 'access', 'later', '.']\n",
      "['Translation', 'history', 'will', 'soon', 'only', 'be', 'available', 'when', 'you', 'are', 'signed', 'in', 'and', 'will', 'be', 'centrally', 'managed', 'within', 'My', 'Activity', '.']\n",
      "['Past', 'history', 'will', 'be', 'cleared', 'during', 'this', 'upgrade', ',', 'so', 'make', 'sure', 'to', 'save', 'translations', 'you', 'want', 'to', 'remember', 'for', 'ease', 'of', 'access', 'later', '.']\n",
      "['Translation', 'history', 'will', 'soon', 'only', 'be', 'available', 'when', 'you', 'are', 'signed', 'in', 'and', 'will', 'be', 'centrally', 'managed', 'within', 'My', 'Activity', '.']\n",
      "['Past', 'history', 'will', 'be', 'cleared', 'during', 'this', 'upgrade', ',', 'so', 'make', 'sure', 'to', 'save', 'translations', 'you', 'want', 'to', 'remember', 'for', 'ease', 'of', 'access', 'later', '.']\n",
      "['Translation', 'history', 'will', 'soon', 'only', 'be', 'available', 'when', 'you', 'are', 'signed', 'in', 'and', 'will', 'be', 'centrally', 'managed', 'within', 'My', 'Activity', '.']\n",
      "['Past', 'history', 'will', 'be', 'cleared', 'during', 'this', 'upgrade', ',', 'so', 'make', 'sure', 'to', 'save', 'translations', 'you', 'want', 'to', 'remember', 'for', 'ease', 'of', 'access', 'later', '.']\n",
      "['Translation', 'history', 'will', 'soon', 'only', 'be', 'available', 'when', 'you', 'are', 'signed', 'in', 'and', 'will', 'be', 'centrally', 'managed', 'within', 'My', 'Activity', '.']\n",
      "['Past', 'history', 'will', 'be', 'cleared', 'during', 'this', 'upgrade', ',', 'so', 'make', 'sure', 'to', 'save', 'translations', 'you', 'want', 'to', 'remember', 'for', 'ease', 'of', 'access', 'later', '.']\n",
      "['Translation', 'history', 'will', 'soon', 'only', 'be', 'available', 'when', 'you', 'are', 'signed', 'in', 'and', 'will', 'be', 'centrally', 'managed', 'within', 'My', 'Activity', '.']\n",
      "['Past', 'history', 'will', 'be', 'cleared', 'during', 'this', 'upgrade', ',', 'so', 'make', 'sure', 'to', 'save', 'translations', 'you', 'want', 'to', 'remember', 'for', 'ease', 'of', 'access', 'later', '.']\n",
      "['Translation', 'history', 'will', 'soon', 'only', 'be', 'available', 'when', 'you', 'are', 'signed', 'in', 'and', 'will', 'be', 'centrally', 'managed', 'within', 'My', 'Activity', '.']\n",
      "['Past', 'history', 'will', 'be', 'cleared', 'during', 'this', 'upgrade', ',', 'so', 'make', 'sure', 'to', 'save', 'translations', 'you', 'want', 'to', 'remember', 'for', 'ease', 'of', 'access', 'later', '.']\n",
      "['Translation', 'history', 'will', 'soon', 'only', 'be', 'available', 'when', 'you', 'are', 'signed', 'in', 'and', 'will', 'be', 'centrally', 'managed', 'within', 'My', 'Activity', '.']\n",
      "['Past', 'history', 'will', 'be', 'cleared', 'during', 'this', 'upgrade', ',', 'so', 'make', 'sure', 'to', 'save', 'translations', 'you', 'want', 'to', 'remember', 'for', 'ease', 'of', 'access', 'later', '.']\n",
      "['Translation', 'history', 'will', 'soon', 'only', 'be', 'available', 'when', 'you', 'are', 'signed', 'in', 'and', 'will', 'be', 'centrally', 'managed', 'within', 'My', 'Activity', '.']\n",
      "['Past', 'history', 'will', 'be', 'cleared', 'during', 'this', 'upgrade', ',', 'so', 'make', 'sure', 'to', 'save', 'translations', 'you', 'want', 'to', 'remember', 'for', 'ease', 'of', 'access', 'later', '.']\n",
      "['Translation', 'history', 'will', 'soon', 'only', 'be', 'available', 'when', 'you', 'are', 'signed', 'in', 'and', 'will', 'be', 'centrally', 'managed', 'within', 'My', 'Activity', '.']\n",
      "['Past', 'history', 'will', 'be', 'cleared', 'during', 'this', 'upgrade', ',', 'so', 'make', 'sure', 'to', 'save', 'translations', 'you', 'want', 'to', 'remember', 'for', 'ease', 'of', 'access', 'later', '.']\n",
      "['Translation', 'history', 'will', 'soon', 'only', 'be', 'available', 'when', 'you', 'are', 'signed', 'in', 'and', 'will', 'be', 'centrally', 'managed', 'within', 'My', 'Activity', '.']\n",
      "['Past', 'history', 'will', 'be', 'cleared', 'during', 'this', 'upgrade', ',', 'so', 'make', 'sure', 'to', 'save', 'translations', 'you', 'want', 'to', 'remember', 'for', 'ease', 'of', 'access', 'later', '.']\n",
      "['Translation', 'history', 'will', 'soon', 'only', 'be', 'available', 'when', 'you', 'are', 'signed', 'in', 'and', 'will', 'be', 'centrally', 'managed', 'within', 'My', 'Activity', '.']\n",
      "['Past', 'history', 'will', 'be', 'cleared', 'during', 'this', 'upgrade', ',', 'so', 'make', 'sure', 'to', 'save', 'translations', 'you', 'want', 'to', 'remember', 'for', 'ease', 'of', 'access', 'later', '.']\n",
      "['Translation', 'history', 'will', 'soon', 'only', 'be', 'available', 'when', 'you', 'are', 'signed', 'in', 'and', 'will', 'be', 'centrally', 'managed', 'within', 'My', 'Activity', '.']\n",
      "['Past', 'history', 'will', 'be', 'cleared', 'during', 'this', 'upgrade', ',', 'so', 'make', 'sure', 'to', 'save', 'translations', 'you', 'want', 'to', 'remember', 'for', 'ease', 'of', 'access', 'later', '.']\n",
      "['Translation', 'history', 'will', 'soon', 'only', 'be', 'available', 'when', 'you', 'are', 'signed', 'in', 'and', 'will', 'be', 'centrally', 'managed', 'within', 'My', 'Activity', '.']\n",
      "['Past', 'history', 'will', 'be', 'cleared', 'during', 'this', 'upgrade', ',', 'so', 'make', 'sure', 'to', 'save', 'translations', 'you', 'want', 'to', 'remember', 'for', 'ease', 'of', 'access', 'later', '.']\n",
      "['Translation', 'history', 'will', 'soon', 'only', 'be', 'available', 'when', 'you', 'are', 'signed', 'in', 'and', 'will', 'be', 'centrally', 'managed', 'within', 'My', 'Activity', '.']\n",
      "['Past', 'history', 'will', 'be', 'cleared', 'during', 'this', 'upgrade', ',', 'so', 'make', 'sure', 'to', 'save', 'translations', 'you', 'want', 'to', 'remember', 'for', 'ease', 'of', 'access', 'later', '.']\n",
      "['Translation', 'history', 'will', 'soon', 'only', 'be', 'available', 'when', 'you', 'are', 'signed', 'in', 'and', 'will', 'be', 'centrally', 'managed', 'within', 'My', 'Activity', '.']\n",
      "['Past', 'history', 'will', 'be', 'cleared', 'during', 'this', 'upgrade', ',', 'so', 'make', 'sure', 'to', 'save', 'translations', 'you', 'want', 'to', 'remember', 'for', 'ease', 'of', 'access', 'later', '.']\n",
      "['Translation', 'history', 'will', 'soon', 'only', 'be', 'available', 'when', 'you', 'are', 'signed', 'in', 'and', 'will', 'be', 'centrally', 'managed', 'within', 'My', 'Activity', '.']\n",
      "['Past', 'history', 'will', 'be', 'cleared', 'during', 'this', 'upgrade', ',', 'so', 'make', 'sure', 'to', 'save', 'translations', 'you', 'want', 'to', 'remember', 'for', 'ease', 'of', 'access', 'later', '.']\n",
      "['Translation', 'history', 'will', 'soon', 'only', 'be', 'available', 'when', 'you', 'are', 'signed', 'in', 'and', 'will', 'be', 'centrally', 'managed', 'within', 'My', 'Activity', '.']\n",
      "['Past', 'history', 'will', 'be', 'cleared', 'during', 'this', 'upgrade', ',', 'so', 'make', 'sure', 'to', 'save', 'translations', 'you', 'want', 'to', 'remember', 'for', 'ease', 'of', 'access', 'later', '.']\n",
      "['Translation', 'history', 'will', 'soon', 'only', 'be', 'available', 'when', 'you', 'are', 'signed', 'in', 'and', 'will', 'be', 'centrally', 'managed', 'within', 'My', 'Activity', '.']\n",
      "['Past', 'history', 'will', 'be', 'cleared', 'during', 'this', 'upgrade', ',', 'so', 'make', 'sure', 'to', 'save', 'translations', 'you', 'want', 'to', 'remember', 'for', 'ease', 'of', 'access', 'later', '.']\n",
      "['Translation', 'history', 'will', 'soon', 'only', 'be', 'available', 'when', 'you', 'are', 'signed', 'in', 'and', 'will', 'be', 'centrally', 'managed', 'within', 'My', 'Activity', '.']\n",
      "['Past', 'history', 'will', 'be', 'cleared', 'during', 'this', 'upgrade', ',', 'so', 'make', 'sure', 'to', 'save', 'translations', 'you', 'want', 'to', 'remember', 'for', 'ease', 'of', 'access', 'later', '.']\n",
      "['Translation', 'history', 'will', 'soon', 'only', 'be', 'available', 'when', 'you', 'are', 'signed', 'in', 'and', 'will', 'be', 'centrally', 'managed', 'within', 'My', 'Activity', '.']\n",
      "['Past', 'history', 'will', 'be', 'cleared', 'during', 'this', 'upgrade', ',', 'so', 'make', 'sure', 'to', 'save', 'translations', 'you', 'want', 'to', 'remember', 'for', 'ease', 'of', 'access', 'later', '.']\n",
      "['Translation', 'history', 'will', 'soon', 'only', 'be', 'available', 'when', 'you', 'are', 'signed', 'in', 'and', 'will', 'be', 'centrally', 'managed', 'within', 'My', 'Activity', '.']\n",
      "['Past', 'history', 'will', 'be', 'cleared', 'during', 'this', 'upgrade', ',', 'so', 'make', 'sure', 'to', 'save', 'translations', 'you', 'want', 'to', 'remember', 'for', 'ease', 'of', 'access', 'later', '.']\n",
      "['Translation', 'history', 'will', 'soon', 'only', 'be', 'available', 'when', 'you', 'are', 'signed', 'in', 'and', 'will', 'be', 'centrally', 'managed', 'within', 'My', 'Activity', '.']\n",
      "['Past', 'history', 'will', 'be', 'cleared', 'during', 'this', 'upgrade', ',', 'so', 'make', 'sure', 'to', 'save', 'translations', 'you', 'want', 'to', 'remember', 'for', 'ease', 'of', 'access', 'later', '.']\n",
      "['Translation', 'history', 'will', 'soon', 'only', 'be', 'available', 'when', 'you', 'are', 'signed', 'in', 'and', 'will', 'be', 'centrally', 'managed', 'within', 'My', 'Activity', '.']\n",
      "['Past', 'history', 'will', 'be', 'cleared', 'during', 'this', 'upgrade', ',', 'so', 'make', 'sure', 'to', 'save', 'translations', 'you', 'want', 'to', 'remember', 'for', 'ease', 'of', 'access', 'later', '.']\n",
      "['Translation', 'history', 'will', 'soon', 'only', 'be', 'available', 'when', 'you', 'are', 'signed', 'in', 'and', 'will', 'be', 'centrally', 'managed', 'within', 'My', 'Activity', '.']\n",
      "['Past', 'history', 'will', 'be', 'cleared', 'during', 'this', 'upgrade', ',', 'so', 'make', 'sure', 'to', 'save', 'translations', 'you', 'want', 'to', 'remember', 'for', 'ease', 'of', 'access', 'later', '.']\n",
      "['Translation', 'history', 'will', 'soon', 'only', 'be', 'available', 'when', 'you', 'are', 'signed', 'in', 'and', 'will', 'be', 'centrally', 'managed', 'within', 'My', 'Activity', '.']\n",
      "['Past', 'history', 'will', 'be', 'cleared', 'during', 'this', 'upgrade', ',', 'so', 'make', 'sure', 'to', 'save', 'translations', 'you', 'want', 'to', 'remember', 'for', 'ease', 'of', 'access', 'later', '.']\n",
      "['Translation', 'history', 'will', 'soon', 'only', 'be', 'available', 'when', 'you', 'are', 'signed', 'in', 'and', 'will', 'be', 'centrally', 'managed', 'within', 'My', 'Activity', '.']\n"
     ]
    },
    {
     "name": "stdout",
     "output_type": "stream",
     "text": [
      "['Past', 'history', 'will', 'be', 'cleared', 'during', 'this', 'upgrade', ',', 'so', 'make', 'sure', 'to', 'save', 'translations', 'you', 'want', 'to', 'remember', 'for', 'ease', 'of', 'access', 'later', '.']\n",
      "['Translation', 'history', 'will', 'soon', 'only', 'be', 'available', 'when', 'you', 'are', 'signed', 'in', 'and', 'will', 'be', 'centrally', 'managed', 'within', 'My', 'Activity', '.']\n",
      "['Past', 'history', 'will', 'be', 'cleared', 'during', 'this', 'upgrade', ',', 'so', 'make', 'sure', 'to', 'save', 'translations', 'you', 'want', 'to', 'remember', 'for', 'ease', 'of', 'access', 'later', '.']\n",
      "['Translation', 'history', 'will', 'soon', 'only', 'be', 'available', 'when', 'you', 'are', 'signed', 'in', 'and', 'will', 'be', 'centrally', 'managed', 'within', 'My', 'Activity', '.']\n",
      "['Past', 'history', 'will', 'be', 'cleared', 'during', 'this', 'upgrade', ',', 'so', 'make', 'sure', 'to', 'save', 'translations', 'you', 'want', 'to', 'remember', 'for', 'ease', 'of', 'access', 'later', '.']\n",
      "['Translation', 'history', 'will', 'soon', 'only', 'be', 'available', 'when', 'you', 'are', 'signed', 'in', 'and', 'will', 'be', 'centrally', 'managed', 'within', 'My', 'Activity', '.']\n",
      "['Past', 'history', 'will', 'be', 'cleared', 'during', 'this', 'upgrade', ',', 'so', 'make', 'sure', 'to', 'save', 'translations', 'you', 'want', 'to', 'remember', 'for', 'ease', 'of', 'access', 'later', '.']\n",
      "['Translation', 'history', 'will', 'soon', 'only', 'be', 'available', 'when', 'you', 'are', 'signed', 'in', 'and', 'will', 'be', 'centrally', 'managed', 'within', 'My', 'Activity', '.']\n",
      "['Past', 'history', 'will', 'be', 'cleared', 'during', 'this', 'upgrade', ',', 'so', 'make', 'sure', 'to', 'save', 'translations', 'you', 'want', 'to', 'remember', 'for', 'ease', 'of', 'access', 'later', '.']\n",
      "['Translation', 'history', 'will', 'soon', 'only', 'be', 'available', 'when', 'you', 'are', 'signed', 'in', 'and', 'will', 'be', 'centrally', 'managed', 'within', 'My', 'Activity', '.']\n",
      "['Past', 'history', 'will', 'be', 'cleared', 'during', 'this', 'upgrade', ',', 'so', 'make', 'sure', 'to', 'save', 'translations', 'you', 'want', 'to', 'remember', 'for', 'ease', 'of', 'access', 'later', '.']\n",
      "['Translation', 'history', 'will', 'soon', 'only', 'be', 'available', 'when', 'you', 'are', 'signed', 'in', 'and', 'will', 'be', 'centrally', 'managed', 'within', 'My', 'Activity', '.']\n",
      "['Past', 'history', 'will', 'be', 'cleared', 'during', 'this', 'upgrade', ',', 'so', 'make', 'sure', 'to', 'save', 'translations', 'you', 'want', 'to', 'remember', 'for', 'ease', 'of', 'access', 'later', '.']\n",
      "['Translation', 'history', 'will', 'soon', 'only', 'be', 'available', 'when', 'you', 'are', 'signed', 'in', 'and', 'will', 'be', 'centrally', 'managed', 'within', 'My', 'Activity', '.']\n",
      "['Past', 'history', 'will', 'be', 'cleared', 'during', 'this', 'upgrade', ',', 'so', 'make', 'sure', 'to', 'save', 'translations', 'you', 'want', 'to', 'remember', 'for', 'ease', 'of', 'access', 'later', '.']\n",
      "['Translation', 'history', 'will', 'soon', 'only', 'be', 'available', 'when', 'you', 'are', 'signed', 'in', 'and', 'will', 'be', 'centrally', 'managed', 'within', 'My', 'Activity', '.']\n",
      "['Past', 'history', 'will', 'be', 'cleared', 'during', 'this', 'upgrade', ',', 'so', 'make', 'sure', 'to', 'save', 'translations', 'you', 'want', 'to', 'remember', 'for', 'ease', 'of', 'access', 'later', '.']\n",
      "['Translation', 'history', 'will', 'soon', 'only', 'be', 'available', 'when', 'you', 'are', 'signed', 'in', 'and', 'will', 'be', 'centrally', 'managed', 'within', 'My', 'Activity', '.']\n",
      "['Past', 'history', 'will', 'be', 'cleared', 'during', 'this', 'upgrade', ',', 'so', 'make', 'sure', 'to', 'save', 'translations', 'you', 'want', 'to', 'remember', 'for', 'ease', 'of', 'access', 'later', '.']\n",
      "['Translation', 'history', 'will', 'soon', 'only', 'be', 'available', 'when', 'you', 'are', 'signed', 'in', 'and', 'will', 'be', 'centrally', 'managed', 'within', 'My', 'Activity', '.']\n",
      "['Past', 'history', 'will', 'be', 'cleared', 'during', 'this', 'upgrade', ',', 'so', 'make', 'sure', 'to', 'save', 'translations', 'you', 'want', 'to', 'remember', 'for', 'ease', 'of', 'access', 'later', '.']\n",
      "['Translation', 'history', 'will', 'soon', 'only', 'be', 'available', 'when', 'you', 'are', 'signed', 'in', 'and', 'will', 'be', 'centrally', 'managed', 'within', 'My', 'Activity', '.']\n",
      "['Past', 'history', 'will', 'be', 'cleared', 'during', 'this', 'upgrade', ',', 'so', 'make', 'sure', 'to', 'save', 'translations', 'you', 'want', 'to', 'remember', 'for', 'ease', 'of', 'access', 'later', '.']\n",
      "['Translation', 'history', 'will', 'soon', 'only', 'be', 'available', 'when', 'you', 'are', 'signed', 'in', 'and', 'will', 'be', 'centrally', 'managed', 'within', 'My', 'Activity', '.']\n",
      "['Past', 'history', 'will', 'be', 'cleared', 'during', 'this', 'upgrade', ',', 'so', 'make', 'sure', 'to', 'save', 'translations', 'you', 'want', 'to', 'remember', 'for', 'ease', 'of', 'access', 'later', '.']\n",
      "['Translation', 'history', 'will', 'soon', 'only', 'be', 'available', 'when', 'you', 'are', 'signed', 'in', 'and', 'will', 'be', 'centrally', 'managed', 'within', 'My', 'Activity', '.']\n",
      "['Past', 'history', 'will', 'be', 'cleared', 'during', 'this', 'upgrade', ',', 'so', 'make', 'sure', 'to', 'save', 'translations', 'you', 'want', 'to', 'remember', 'for', 'ease', 'of', 'access', 'later', '.']\n",
      "['Translation', 'history', 'will', 'soon', 'only', 'be', 'available', 'when', 'you', 'are', 'signed', 'in', 'and', 'will', 'be', 'centrally', 'managed', 'within', 'My', 'Activity', '.']\n",
      "['Past', 'history', 'will', 'be', 'cleared', 'during', 'this', 'upgrade', ',', 'so', 'make', 'sure', 'to', 'save', 'translations', 'you', 'want', 'to', 'remember', 'for', 'ease', 'of', 'access', 'later', '.']\n",
      "['Translation', 'history', 'will', 'soon', 'only', 'be', 'available', 'when', 'you', 'are', 'signed', 'in', 'and', 'will', 'be', 'centrally', 'managed', 'within', 'My', 'Activity', '.']\n",
      "['Past', 'history', 'will', 'be', 'cleared', 'during', 'this', 'upgrade', ',', 'so', 'make', 'sure', 'to', 'save', 'translations', 'you', 'want', 'to', 'remember', 'for', 'ease', 'of', 'access', 'later', '.']\n",
      "['Translation', 'history', 'will', 'soon', 'only', 'be', 'available', 'when', 'you', 'are', 'signed', 'in', 'and', 'will', 'be', 'centrally', 'managed', 'within', 'My', 'Activity', '.']\n",
      "['Past', 'history', 'will', 'be', 'cleared', 'during', 'this', 'upgrade', ',', 'so', 'make', 'sure', 'to', 'save', 'translations', 'you', 'want', 'to', 'remember', 'for', 'ease', 'of', 'access', 'later', '.']\n",
      "['Translation', 'history', 'will', 'soon', 'only', 'be', 'available', 'when', 'you', 'are', 'signed', 'in', 'and', 'will', 'be', 'centrally', 'managed', 'within', 'My', 'Activity', '.']\n",
      "['Past', 'history', 'will', 'be', 'cleared', 'during', 'this', 'upgrade', ',', 'so', 'make', 'sure', 'to', 'save', 'translations', 'you', 'want', 'to', 'remember', 'for', 'ease', 'of', 'access', 'later', '.']\n",
      "['Translation', 'history', 'will', 'soon', 'only', 'be', 'available', 'when', 'you', 'are', 'signed', 'in', 'and', 'will', 'be', 'centrally', 'managed', 'within', 'My', 'Activity', '.']\n",
      "['Past', 'history', 'will', 'be', 'cleared', 'during', 'this', 'upgrade', ',', 'so', 'make', 'sure', 'to', 'save', 'translations', 'you', 'want', 'to', 'remember', 'for', 'ease', 'of', 'access', 'later', '.']\n",
      "['Translation', 'history', 'will', 'soon', 'only', 'be', 'available', 'when', 'you', 'are', 'signed', 'in', 'and', 'will', 'be', 'centrally', 'managed', 'within', 'My', 'Activity', '.']\n",
      "['Past', 'history', 'will', 'be', 'cleared', 'during', 'this', 'upgrade', ',', 'so', 'make', 'sure', 'to', 'save', 'translations', 'you', 'want', 'to', 'remember', 'for', 'ease', 'of', 'access', 'later', '.']\n",
      "['Translation', 'history', 'will', 'soon', 'only', 'be', 'available', 'when', 'you', 'are', 'signed', 'in', 'and', 'will', 'be', 'centrally', 'managed', 'within', 'My', 'Activity', '.']\n",
      "['Past', 'history', 'will', 'be', 'cleared', 'during', 'this', 'upgrade', ',', 'so', 'make', 'sure', 'to', 'save', 'translations', 'you', 'want', 'to', 'remember', 'for', 'ease', 'of', 'access', 'later', '.']\n",
      "['Translation', 'history', 'will', 'soon', 'only', 'be', 'available', 'when', 'you', 'are', 'signed', 'in', 'and', 'will', 'be', 'centrally', 'managed', 'within', 'My', 'Activity', '.']\n",
      "['Past', 'history', 'will', 'be', 'cleared', 'during', 'this', 'upgrade', ',', 'so', 'make', 'sure', 'to', 'save', 'translations', 'you', 'want', 'to', 'remember', 'for', 'ease', 'of', 'access', 'later', '.']\n",
      "['Translation', 'history', 'will', 'soon', 'only', 'be', 'available', 'when', 'you', 'are', 'signed', 'in', 'and', 'will', 'be', 'centrally', 'managed', 'within', 'My', 'Activity', '.']\n",
      "['Past', 'history', 'will', 'be', 'cleared', 'during', 'this', 'upgrade', ',', 'so', 'make', 'sure', 'to', 'save', 'translations', 'you', 'want', 'to', 'remember', 'for', 'ease', 'of', 'access', 'later', '.']\n",
      "['Translation', 'history', 'will', 'soon', 'only', 'be', 'available', 'when', 'you', 'are', 'signed', 'in', 'and', 'will', 'be', 'centrally', 'managed', 'within', 'My', 'Activity', '.']\n",
      "['Past', 'history', 'will', 'be', 'cleared', 'during', 'this', 'upgrade', ',', 'so', 'make', 'sure', 'to', 'save', 'translations', 'you', 'want', 'to', 'remember', 'for', 'ease', 'of', 'access', 'later', '.']\n",
      "['Translation', 'history', 'will', 'soon', 'only', 'be', 'available', 'when', 'you', 'are', 'signed', 'in', 'and', 'will', 'be', 'centrally', 'managed', 'within', 'My', 'Activity', '.']\n",
      "['Past', 'history', 'will', 'be', 'cleared', 'during', 'this', 'upgrade', ',', 'so', 'make', 'sure', 'to', 'save', 'translations', 'you', 'want', 'to', 'remember', 'for', 'ease', 'of', 'access', 'later', '.']\n",
      "['Translation', 'history', 'will', 'soon', 'only', 'be', 'available', 'when', 'you', 'are', 'signed', 'in', 'and', 'will', 'be', 'centrally', 'managed', 'within', 'My', 'Activity', '.']\n",
      "['Past', 'history', 'will', 'be', 'cleared', 'during', 'this', 'upgrade', ',', 'so', 'make', 'sure', 'to', 'save', 'translations', 'you', 'want', 'to', 'remember', 'for', 'ease', 'of', 'access', 'later', '.']\n",
      "['Translation', 'history', 'will', 'soon', 'only', 'be', 'available', 'when', 'you', 'are', 'signed', 'in', 'and', 'will', 'be', 'centrally', 'managed', 'within', 'My', 'Activity', '.']\n",
      "['Past', 'history', 'will', 'be', 'cleared', 'during', 'this', 'upgrade', ',', 'so', 'make', 'sure', 'to', 'save', 'translations', 'you', 'want', 'to', 'remember', 'for', 'ease', 'of', 'access', 'later', '.']\n",
      "['Translation', 'history', 'will', 'soon', 'only', 'be', 'available', 'when', 'you', 'are', 'signed', 'in', 'and', 'will', 'be', 'centrally', 'managed', 'within', 'My', 'Activity', '.']\n",
      "['Past', 'history', 'will', 'be', 'cleared', 'during', 'this', 'upgrade', ',', 'so', 'make', 'sure', 'to', 'save', 'translations', 'you', 'want', 'to', 'remember', 'for', 'ease', 'of', 'access', 'later', '.']\n",
      "['Translation', 'history', 'will', 'soon', 'only', 'be', 'available', 'when', 'you', 'are', 'signed', 'in', 'and', 'will', 'be', 'centrally', 'managed', 'within', 'My', 'Activity', '.']\n",
      "['Past', 'history', 'will', 'be', 'cleared', 'during', 'this', 'upgrade', ',', 'so', 'make', 'sure', 'to', 'save', 'translations', 'you', 'want', 'to', 'remember', 'for', 'ease', 'of', 'access', 'later', '.']\n",
      "['Translation', 'history', 'will', 'soon', 'only', 'be', 'available', 'when', 'you', 'are', 'signed', 'in', 'and', 'will', 'be', 'centrally', 'managed', 'within', 'My', 'Activity', '.']\n",
      "['Past', 'history', 'will', 'be', 'cleared', 'during', 'this', 'upgrade', ',', 'so', 'make', 'sure', 'to', 'save', 'translations', 'you', 'want', 'to', 'remember', 'for', 'ease', 'of', 'access', 'later', '.']\n",
      "['Translation', 'history', 'will', 'soon', 'only', 'be', 'available', 'when', 'you', 'are', 'signed', 'in', 'and', 'will', 'be', 'centrally', 'managed', 'within', 'My', 'Activity', '.']\n",
      "['Past', 'history', 'will', 'be', 'cleared', 'during', 'this', 'upgrade', ',', 'so', 'make', 'sure', 'to', 'save', 'translations', 'you', 'want', 'to', 'remember', 'for', 'ease', 'of', 'access', 'later', '.']\n",
      "['Translation', 'history', 'will', 'soon', 'only', 'be', 'available', 'when', 'you', 'are', 'signed', 'in', 'and', 'will', 'be', 'centrally', 'managed', 'within', 'My', 'Activity', '.']\n",
      "['Past', 'history', 'will', 'be', 'cleared', 'during', 'this', 'upgrade', ',', 'so', 'make', 'sure', 'to', 'save', 'translations', 'you', 'want', 'to', 'remember', 'for', 'ease', 'of', 'access', 'later', '.']\n",
      "['Translation', 'history', 'will', 'soon', 'only', 'be', 'available', 'when', 'you', 'are', 'signed', 'in', 'and', 'will', 'be', 'centrally', 'managed', 'within', 'My', 'Activity', '.']\n",
      "['Past', 'history', 'will', 'be', 'cleared', 'during', 'this', 'upgrade', ',', 'so', 'make', 'sure', 'to', 'save', 'translations', 'you', 'want', 'to', 'remember', 'for', 'ease', 'of', 'access', 'later', '.']\n",
      "['Translation', 'history', 'will', 'soon', 'only', 'be', 'available', 'when', 'you', 'are', 'signed', 'in', 'and', 'will', 'be', 'centrally', 'managed', 'within', 'My', 'Activity', '.']\n",
      "['Past', 'history', 'will', 'be', 'cleared', 'during', 'this', 'upgrade', ',', 'so', 'make', 'sure', 'to', 'save', 'translations', 'you', 'want', 'to', 'remember', 'for', 'ease', 'of', 'access', 'later', '.']\n",
      "['Translation', 'history', 'will', 'soon', 'only', 'be', 'available', 'when', 'you', 'are', 'signed', 'in', 'and', 'will', 'be', 'centrally', 'managed', 'within', 'My', 'Activity', '.']\n",
      "['Past', 'history', 'will', 'be', 'cleared', 'during', 'this', 'upgrade', ',', 'so', 'make', 'sure', 'to', 'save', 'translations', 'you', 'want', 'to', 'remember', 'for', 'ease', 'of', 'access', 'later', '.']\n",
      "['Translation', 'history', 'will', 'soon', 'only', 'be', 'available', 'when', 'you', 'are', 'signed', 'in', 'and', 'will', 'be', 'centrally', 'managed', 'within', 'My', 'Activity', '.']\n",
      "['Past', 'history', 'will', 'be', 'cleared', 'during', 'this', 'upgrade', ',', 'so', 'make', 'sure', 'to', 'save', 'translations', 'you', 'want', 'to', 'remember', 'for', 'ease', 'of', 'access', 'later', '.']\n",
      "['Translation', 'history', 'will', 'soon', 'only', 'be', 'available', 'when', 'you', 'are', 'signed', 'in', 'and', 'will', 'be', 'centrally', 'managed', 'within', 'My', 'Activity', '.']\n",
      "['Past', 'history', 'will', 'be', 'cleared', 'during', 'this', 'upgrade', ',', 'so', 'make', 'sure', 'to', 'save', 'translations', 'you', 'want', 'to', 'remember', 'for', 'ease', 'of', 'access', 'later', '.']\n",
      "['Translation', 'history', 'will', 'soon', 'only', 'be', 'available', 'when', 'you', 'are', 'signed', 'in', 'and', 'will', 'be', 'centrally', 'managed', 'within', 'My', 'Activity', '.']\n",
      "['Past', 'history', 'will', 'be', 'cleared', 'during', 'this', 'upgrade', ',', 'so', 'make', 'sure', 'to', 'save', 'translations', 'you', 'want', 'to', 'remember', 'for', 'ease', 'of', 'access', 'later', '.']\n",
      "['Translation', 'history', 'will', 'soon', 'only', 'be', 'available', 'when', 'you', 'are', 'signed', 'in', 'and', 'will', 'be', 'centrally', 'managed', 'within', 'My', 'Activity', '.']\n",
      "['Past', 'history', 'will', 'be', 'cleared', 'during', 'this', 'upgrade', ',', 'so', 'make', 'sure', 'to', 'save', 'translations', 'you', 'want', 'to', 'remember', 'for', 'ease', 'of', 'access', 'later', '.']\n",
      "['Translation', 'history', 'will', 'soon', 'only', 'be', 'available', 'when', 'you', 'are', 'signed', 'in', 'and', 'will', 'be', 'centrally', 'managed', 'within', 'My', 'Activity', '.']\n",
      "['Past', 'history', 'will', 'be', 'cleared', 'during', 'this', 'upgrade', ',', 'so', 'make', 'sure', 'to', 'save', 'translations', 'you', 'want', 'to', 'remember', 'for', 'ease', 'of', 'access', 'later', '.']\n",
      "['Translation', 'history', 'will', 'soon', 'only', 'be', 'available', 'when', 'you', 'are', 'signed', 'in', 'and', 'will', 'be', 'centrally', 'managed', 'within', 'My', 'Activity', '.']\n",
      "['Past', 'history', 'will', 'be', 'cleared', 'during', 'this', 'upgrade', ',', 'so', 'make', 'sure', 'to', 'save', 'translations', 'you', 'want', 'to', 'remember', 'for', 'ease', 'of', 'access', 'later', '.']\n",
      "['Translation', 'history', 'will', 'soon', 'only', 'be', 'available', 'when', 'you', 'are', 'signed', 'in', 'and', 'will', 'be', 'centrally', 'managed', 'within', 'My', 'Activity', '.']\n",
      "['Past', 'history', 'will', 'be', 'cleared', 'during', 'this', 'upgrade', ',', 'so', 'make', 'sure', 'to', 'save', 'translations', 'you', 'want', 'to', 'remember', 'for', 'ease', 'of', 'access', 'later', '.']\n",
      "['Translation', 'history', 'will', 'soon', 'only', 'be', 'available', 'when', 'you', 'are', 'signed', 'in', 'and', 'will', 'be', 'centrally', 'managed', 'within', 'My', 'Activity', '.']\n",
      "['Past', 'history', 'will', 'be', 'cleared', 'during', 'this', 'upgrade', ',', 'so', 'make', 'sure', 'to', 'save', 'translations', 'you', 'want', 'to', 'remember', 'for', 'ease', 'of', 'access', 'later', '.']\n",
      "['Translation', 'history', 'will', 'soon', 'only', 'be', 'available', 'when', 'you', 'are', 'signed', 'in', 'and', 'will', 'be', 'centrally', 'managed', 'within', 'My', 'Activity', '.']\n",
      "['Past', 'history', 'will', 'be', 'cleared', 'during', 'this', 'upgrade', ',', 'so', 'make', 'sure', 'to', 'save', 'translations', 'you', 'want', 'to', 'remember', 'for', 'ease', 'of', 'access', 'later', '.']\n",
      "['Translation', 'history', 'will', 'soon', 'only', 'be', 'available', 'when', 'you', 'are', 'signed', 'in', 'and', 'will', 'be', 'centrally', 'managed', 'within', 'My', 'Activity', '.']\n",
      "['Past', 'history', 'will', 'be', 'cleared', 'during', 'this', 'upgrade', ',', 'so', 'make', 'sure', 'to', 'save', 'translations', 'you', 'want', 'to', 'remember', 'for', 'ease', 'of', 'access', 'later', '.']\n",
      "['Translation', 'history', 'will', 'soon', 'only', 'be', 'available', 'when', 'you', 'are', 'signed', 'in', 'and', 'will', 'be', 'centrally', 'managed', 'within', 'My', 'Activity', '.']\n",
      "['Past', 'history', 'will', 'be', 'cleared', 'during', 'this', 'upgrade', ',', 'so', 'make', 'sure', 'to', 'save', 'translations', 'you', 'want', 'to', 'remember', 'for', 'ease', 'of', 'access', 'later', '.']\n",
      "['Translation', 'history', 'will', 'soon', 'only', 'be', 'available', 'when', 'you', 'are', 'signed', 'in', 'and', 'will', 'be', 'centrally', 'managed', 'within', 'My', 'Activity', '.']\n",
      "['Past', 'history', 'will', 'be', 'cleared', 'during', 'this', 'upgrade', ',', 'so', 'make', 'sure', 'to', 'save', 'translations', 'you', 'want', 'to', 'remember', 'for', 'ease', 'of', 'access', 'later', '.']\n",
      "['Translation', 'history', 'will', 'soon', 'only', 'be', 'available', 'when', 'you', 'are', 'signed', 'in', 'and', 'will', 'be', 'centrally', 'managed', 'within', 'My', 'Activity', '.']\n",
      "['Past', 'history', 'will', 'be', 'cleared', 'during', 'this', 'upgrade', ',', 'so', 'make', 'sure', 'to', 'save', 'translations', 'you', 'want', 'to', 'remember', 'for', 'ease', 'of', 'access', 'later', '.']\n",
      "['Translation', 'history', 'will', 'soon', 'only', 'be', 'available', 'when', 'you', 'are', 'signed', 'in', 'and', 'will', 'be', 'centrally', 'managed', 'within', 'My', 'Activity', '.']\n",
      "['Past', 'history', 'will', 'be', 'cleared', 'during', 'this', 'upgrade', ',', 'so', 'make', 'sure', 'to', 'save', 'translations', 'you', 'want', 'to', 'remember', 'for', 'ease', 'of', 'access', 'later', '.']\n",
      "['Translation', 'history', 'will', 'soon', 'only', 'be', 'available', 'when', 'you', 'are', 'signed', 'in', 'and', 'will', 'be', 'centrally', 'managed', 'within', 'My', 'Activity', '.']\n",
      "['Past', 'history', 'will', 'be', 'cleared', 'during', 'this', 'upgrade', ',', 'so', 'make', 'sure', 'to', 'save', 'translations', 'you', 'want', 'to', 'remember', 'for', 'ease', 'of', 'access', 'later', '.']\n",
      "['Translation', 'history', 'will', 'soon', 'only', 'be', 'available', 'when', 'you', 'are', 'signed', 'in', 'and', 'will', 'be', 'centrally', 'managed', 'within', 'My', 'Activity', '.']\n",
      "['Past', 'history', 'will', 'be', 'cleared', 'during', 'this', 'upgrade', ',', 'so', 'make', 'sure', 'to', 'save', 'translations', 'you', 'want', 'to', 'remember', 'for', 'ease', 'of', 'access', 'later', '.']\n",
      "['Translation', 'history', 'will', 'soon', 'only', 'be', 'available', 'when', 'you', 'are', 'signed', 'in', 'and', 'will', 'be', 'centrally', 'managed', 'within', 'My', 'Activity', '.']\n",
      "['Past', 'history', 'will', 'be', 'cleared', 'during', 'this', 'upgrade', ',', 'so', 'make', 'sure', 'to', 'save', 'translations', 'you', 'want', 'to', 'remember', 'for', 'ease', 'of', 'access', 'later', '.']\n",
      "['Translation', 'history', 'will', 'soon', 'only', 'be', 'available', 'when', 'you', 'are', 'signed', 'in', 'and', 'will', 'be', 'centrally', 'managed', 'within', 'My', 'Activity', '.']\n",
      "['Past', 'history', 'will', 'be', 'cleared', 'during', 'this', 'upgrade', ',', 'so', 'make', 'sure', 'to', 'save', 'translations', 'you', 'want', 'to', 'remember', 'for', 'ease', 'of', 'access', 'later', '.']\n",
      "['Translation', 'history', 'will', 'soon', 'only', 'be', 'available', 'when', 'you', 'are', 'signed', 'in', 'and', 'will', 'be', 'centrally', 'managed', 'within', 'My', 'Activity', '.']\n",
      "['Past', 'history', 'will', 'be', 'cleared', 'during', 'this', 'upgrade', ',', 'so', 'make', 'sure', 'to', 'save', 'translations', 'you', 'want', 'to', 'remember', 'for', 'ease', 'of', 'access', 'later', '.']\n",
      "['Translation', 'history', 'will', 'soon', 'only', 'be', 'available', 'when', 'you', 'are', 'signed', 'in', 'and', 'will', 'be', 'centrally', 'managed', 'within', 'My', 'Activity', '.']\n",
      "['Past', 'history', 'will', 'be', 'cleared', 'during', 'this', 'upgrade', ',', 'so', 'make', 'sure', 'to', 'save', 'translations', 'you', 'want', 'to', 'remember', 'for', 'ease', 'of', 'access', 'later', '.']\n",
      "['Translation', 'history', 'will', 'soon', 'only', 'be', 'available', 'when', 'you', 'are', 'signed', 'in', 'and', 'will', 'be', 'centrally', 'managed', 'within', 'My', 'Activity', '.']\n",
      "['Past', 'history', 'will', 'be', 'cleared', 'during', 'this', 'upgrade', ',', 'so', 'make', 'sure', 'to', 'save', 'translations', 'you', 'want', 'to', 'remember', 'for', 'ease', 'of', 'access', 'later', '.']\n",
      "['Translation', 'history', 'will', 'soon', 'only', 'be', 'available', 'when', 'you', 'are', 'signed', 'in', 'and', 'will', 'be', 'centrally', 'managed', 'within', 'My', 'Activity', '.']\n",
      "['Past', 'history', 'will', 'be', 'cleared', 'during', 'this', 'upgrade', ',', 'so', 'make', 'sure', 'to', 'save', 'translations', 'you', 'want', 'to', 'remember', 'for', 'ease', 'of', 'access', 'later', '.']\n",
      "['Translation', 'history', 'will', 'soon', 'only', 'be', 'available', 'when', 'you', 'are', 'signed', 'in', 'and', 'will', 'be', 'centrally', 'managed', 'within', 'My', 'Activity', '.']\n",
      "['Past', 'history', 'will', 'be', 'cleared', 'during', 'this', 'upgrade', ',', 'so', 'make', 'sure', 'to', 'save', 'translations', 'you', 'want', 'to', 'remember', 'for', 'ease', 'of', 'access', 'later', '.']\n",
      "['Translation', 'history', 'will', 'soon', 'only', 'be', 'available', 'when', 'you', 'are', 'signed', 'in', 'and', 'will', 'be', 'centrally', 'managed', 'within', 'My', 'Activity', '.']\n"
     ]
    },
    {
     "name": "stdout",
     "output_type": "stream",
     "text": [
      "['Past', 'history', 'will', 'be', 'cleared', 'during', 'this', 'upgrade', ',', 'so', 'make', 'sure', 'to', 'save', 'translations', 'you', 'want', 'to', 'remember', 'for', 'ease', 'of', 'access', 'later', '.']\n",
      "['Translation', 'history', 'will', 'soon', 'only', 'be', 'available', 'when', 'you', 'are', 'signed', 'in', 'and', 'will', 'be', 'centrally', 'managed', 'within', 'My', 'Activity', '.']\n",
      "['Past', 'history', 'will', 'be', 'cleared', 'during', 'this', 'upgrade', ',', 'so', 'make', 'sure', 'to', 'save', 'translations', 'you', 'want', 'to', 'remember', 'for', 'ease', 'of', 'access', 'later', '.']\n",
      "['Translation', 'history', 'will', 'soon', 'only', 'be', 'available', 'when', 'you', 'are', 'signed', 'in', 'and', 'will', 'be', 'centrally', 'managed', 'within', 'My', 'Activity', '.']\n",
      "['Past', 'history', 'will', 'be', 'cleared', 'during', 'this', 'upgrade', ',', 'so', 'make', 'sure', 'to', 'save', 'translations', 'you', 'want', 'to', 'remember', 'for', 'ease', 'of', 'access', 'later', '.']\n",
      "['Translation', 'history', 'will', 'soon', 'only', 'be', 'available', 'when', 'you', 'are', 'signed', 'in', 'and', 'will', 'be', 'centrally', 'managed', 'within', 'My', 'Activity', '.']\n",
      "['Past', 'history', 'will', 'be', 'cleared', 'during', 'this', 'upgrade', ',', 'so', 'make', 'sure', 'to', 'save', 'translations', 'you', 'want', 'to', 'remember', 'for', 'ease', 'of', 'access', 'later', '.']\n",
      "['Translation', 'history', 'will', 'soon', 'only', 'be', 'available', 'when', 'you', 'are', 'signed', 'in', 'and', 'will', 'be', 'centrally', 'managed', 'within', 'My', 'Activity', '.']\n",
      "['Past', 'history', 'will', 'be', 'cleared', 'during', 'this', 'upgrade', ',', 'so', 'make', 'sure', 'to', 'save', 'translations', 'you', 'want', 'to', 'remember', 'for', 'ease', 'of', 'access', 'later', '.']\n",
      "['Translation', 'history', 'will', 'soon', 'only', 'be', 'available', 'when', 'you', 'are', 'signed', 'in', 'and', 'will', 'be', 'centrally', 'managed', 'within', 'My', 'Activity', '.']\n",
      "['Past', 'history', 'will', 'be', 'cleared', 'during', 'this', 'upgrade', ',', 'so', 'make', 'sure', 'to', 'save', 'translations', 'you', 'want', 'to', 'remember', 'for', 'ease', 'of', 'access', 'later', '.']\n",
      "['Translation', 'history', 'will', 'soon', 'only', 'be', 'available', 'when', 'you', 'are', 'signed', 'in', 'and', 'will', 'be', 'centrally', 'managed', 'within', 'My', 'Activity', '.']\n",
      "['Past', 'history', 'will', 'be', 'cleared', 'during', 'this', 'upgrade', ',', 'so', 'make', 'sure', 'to', 'save', 'translations', 'you', 'want', 'to', 'remember', 'for', 'ease', 'of', 'access', 'later', '.']\n",
      "['Translation', 'history', 'will', 'soon', 'only', 'be', 'available', 'when', 'you', 'are', 'signed', 'in', 'and', 'will', 'be', 'centrally', 'managed', 'within', 'My', 'Activity', '.']\n",
      "['Past', 'history', 'will', 'be', 'cleared', 'during', 'this', 'upgrade', ',', 'so', 'make', 'sure', 'to', 'save', 'translations', 'you', 'want', 'to', 'remember', 'for', 'ease', 'of', 'access', 'later', '.']\n",
      "['Translation', 'history', 'will', 'soon', 'only', 'be', 'available', 'when', 'you', 'are', 'signed', 'in', 'and', 'will', 'be', 'centrally', 'managed', 'within', 'My', 'Activity', '.']\n",
      "['Past', 'history', 'will', 'be', 'cleared', 'during', 'this', 'upgrade', ',', 'so', 'make', 'sure', 'to', 'save', 'translations', 'you', 'want', 'to', 'remember', 'for', 'ease', 'of', 'access', 'later', '.']\n",
      "['Translation', 'history', 'will', 'soon', 'only', 'be', 'available', 'when', 'you', 'are', 'signed', 'in', 'and', 'will', 'be', 'centrally', 'managed', 'within', 'My', 'Activity', '.']\n",
      "['Past', 'history', 'will', 'be', 'cleared', 'during', 'this', 'upgrade', ',', 'so', 'make', 'sure', 'to', 'save', 'translations', 'you', 'want', 'to', 'remember', 'for', 'ease', 'of', 'access', 'later', '.']\n",
      "['Translation', 'history', 'will', 'soon', 'only', 'be', 'available', 'when', 'you', 'are', 'signed', 'in', 'and', 'will', 'be', 'centrally', 'managed', 'within', 'My', 'Activity', '.']\n",
      "['Past', 'history', 'will', 'be', 'cleared', 'during', 'this', 'upgrade', ',', 'so', 'make', 'sure', 'to', 'save', 'translations', 'you', 'want', 'to', 'remember', 'for', 'ease', 'of', 'access', 'later', '.']\n",
      "['Translation', 'history', 'will', 'soon', 'only', 'be', 'available', 'when', 'you', 'are', 'signed', 'in', 'and', 'will', 'be', 'centrally', 'managed', 'within', 'My', 'Activity', '.']\n",
      "['Past', 'history', 'will', 'be', 'cleared', 'during', 'this', 'upgrade', ',', 'so', 'make', 'sure', 'to', 'save', 'translations', 'you', 'want', 'to', 'remember', 'for', 'ease', 'of', 'access', 'later', '.']\n",
      "['Translation', 'history', 'will', 'soon', 'only', 'be', 'available', 'when', 'you', 'are', 'signed', 'in', 'and', 'will', 'be', 'centrally', 'managed', 'within', 'My', 'Activity', '.']\n",
      "['Past', 'history', 'will', 'be', 'cleared', 'during', 'this', 'upgrade', ',', 'so', 'make', 'sure', 'to', 'save', 'translations', 'you', 'want', 'to', 'remember', 'for', 'ease', 'of', 'access', 'later', '.']\n",
      "['Translation', 'history', 'will', 'soon', 'only', 'be', 'available', 'when', 'you', 'are', 'signed', 'in', 'and', 'will', 'be', 'centrally', 'managed', 'within', 'My', 'Activity', '.']\n",
      "['Past', 'history', 'will', 'be', 'cleared', 'during', 'this', 'upgrade', ',', 'so', 'make', 'sure', 'to', 'save', 'translations', 'you', 'want', 'to', 'remember', 'for', 'ease', 'of', 'access', 'later', '.']\n",
      "['Translation', 'history', 'will', 'soon', 'only', 'be', 'available', 'when', 'you', 'are', 'signed', 'in', 'and', 'will', 'be', 'centrally', 'managed', 'within', 'My', 'Activity', '.']\n",
      "['Past', 'history', 'will', 'be', 'cleared', 'during', 'this', 'upgrade', ',', 'so', 'make', 'sure', 'to', 'save', 'translations', 'you', 'want', 'to', 'remember', 'for', 'ease', 'of', 'access', 'later', '.']\n",
      "['Translation', 'history', 'will', 'soon', 'only', 'be', 'available', 'when', 'you', 'are', 'signed', 'in', 'and', 'will', 'be', 'centrally', 'managed', 'within', 'My', 'Activity', '.']\n",
      "['Past', 'history', 'will', 'be', 'cleared', 'during', 'this', 'upgrade', ',', 'so', 'make', 'sure', 'to', 'save', 'translations', 'you', 'want', 'to', 'remember', 'for', 'ease', 'of', 'access', 'later', '.']\n",
      "['Translation', 'history', 'will', 'soon', 'only', 'be', 'available', 'when', 'you', 'are', 'signed', 'in', 'and', 'will', 'be', 'centrally', 'managed', 'within', 'My', 'Activity', '.']\n",
      "['Past', 'history', 'will', 'be', 'cleared', 'during', 'this', 'upgrade', ',', 'so', 'make', 'sure', 'to', 'save', 'translations', 'you', 'want', 'to', 'remember', 'for', 'ease', 'of', 'access', 'later', '.']\n",
      "['Translation', 'history', 'will', 'soon', 'only', 'be', 'available', 'when', 'you', 'are', 'signed', 'in', 'and', 'will', 'be', 'centrally', 'managed', 'within', 'My', 'Activity', '.']\n",
      "['Past', 'history', 'will', 'be', 'cleared', 'during', 'this', 'upgrade', ',', 'so', 'make', 'sure', 'to', 'save', 'translations', 'you', 'want', 'to', 'remember', 'for', 'ease', 'of', 'access', 'later', '.']\n",
      "['Translation', 'history', 'will', 'soon', 'only', 'be', 'available', 'when', 'you', 'are', 'signed', 'in', 'and', 'will', 'be', 'centrally', 'managed', 'within', 'My', 'Activity', '.']\n",
      "['Past', 'history', 'will', 'be', 'cleared', 'during', 'this', 'upgrade', ',', 'so', 'make', 'sure', 'to', 'save', 'translations', 'you', 'want', 'to', 'remember', 'for', 'ease', 'of', 'access', 'later', '.']\n",
      "['Translation', 'history', 'will', 'soon', 'only', 'be', 'available', 'when', 'you', 'are', 'signed', 'in', 'and', 'will', 'be', 'centrally', 'managed', 'within', 'My', 'Activity', '.']\n",
      "['Past', 'history', 'will', 'be', 'cleared', 'during', 'this', 'upgrade', ',', 'so', 'make', 'sure', 'to', 'save', 'translations', 'you', 'want', 'to', 'remember', 'for', 'ease', 'of', 'access', 'later', '.']\n",
      "['Translation', 'history', 'will', 'soon', 'only', 'be', 'available', 'when', 'you', 'are', 'signed', 'in', 'and', 'will', 'be', 'centrally', 'managed', 'within', 'My', 'Activity', '.']\n",
      "['Past', 'history', 'will', 'be', 'cleared', 'during', 'this', 'upgrade', ',', 'so', 'make', 'sure', 'to', 'save', 'translations', 'you', 'want', 'to', 'remember', 'for', 'ease', 'of', 'access', 'later', '.']\n",
      "['Translation', 'history', 'will', 'soon', 'only', 'be', 'available', 'when', 'you', 'are', 'signed', 'in', 'and', 'will', 'be', 'centrally', 'managed', 'within', 'My', 'Activity', '.']\n",
      "['Past', 'history', 'will', 'be', 'cleared', 'during', 'this', 'upgrade', ',', 'so', 'make', 'sure', 'to', 'save', 'translations', 'you', 'want', 'to', 'remember', 'for', 'ease', 'of', 'access', 'later', '.']\n",
      "['Translation', 'history', 'will', 'soon', 'only', 'be', 'available', 'when', 'you', 'are', 'signed', 'in', 'and', 'will', 'be', 'centrally', 'managed', 'within', 'My', 'Activity', '.']\n",
      "['Past', 'history', 'will', 'be', 'cleared', 'during', 'this', 'upgrade', ',', 'so', 'make', 'sure', 'to', 'save', 'translations', 'you', 'want', 'to', 'remember', 'for', 'ease', 'of', 'access', 'later', '.']\n",
      "['Translation', 'history', 'will', 'soon', 'only', 'be', 'available', 'when', 'you', 'are', 'signed', 'in', 'and', 'will', 'be', 'centrally', 'managed', 'within', 'My', 'Activity', '.']\n",
      "['Past', 'history', 'will', 'be', 'cleared', 'during', 'this', 'upgrade', ',', 'so', 'make', 'sure', 'to', 'save', 'translations', 'you', 'want', 'to', 'remember', 'for', 'ease', 'of', 'access', 'later', '.']\n",
      "['Translation', 'history', 'will', 'soon', 'only', 'be', 'available', 'when', 'you', 'are', 'signed', 'in', 'and', 'will', 'be', 'centrally', 'managed', 'within', 'My', 'Activity', '.']\n",
      "['Past', 'history', 'will', 'be', 'cleared', 'during', 'this', 'upgrade', ',', 'so', 'make', 'sure', 'to', 'save', 'translations', 'you', 'want', 'to', 'remember', 'for', 'ease', 'of', 'access', 'later', '.']\n",
      "['Translation', 'history', 'will', 'soon', 'only', 'be', 'available', 'when', 'you', 'are', 'signed', 'in', 'and', 'will', 'be', 'centrally', 'managed', 'within', 'My', 'Activity', '.']\n",
      "['Past', 'history', 'will', 'be', 'cleared', 'during', 'this', 'upgrade', ',', 'so', 'make', 'sure', 'to', 'save', 'translations', 'you', 'want', 'to', 'remember', 'for', 'ease', 'of', 'access', 'later', '.']\n",
      "['Translation', 'history', 'will', 'soon', 'only', 'be', 'available', 'when', 'you', 'are', 'signed', 'in', 'and', 'will', 'be', 'centrally', 'managed', 'within', 'My', 'Activity', '.']\n",
      "['Past', 'history', 'will', 'be', 'cleared', 'during', 'this', 'upgrade', ',', 'so', 'make', 'sure', 'to', 'save', 'translations', 'you', 'want', 'to', 'remember', 'for', 'ease', 'of', 'access', 'later', '.']\n",
      "['Translation', 'history', 'will', 'soon', 'only', 'be', 'available', 'when', 'you', 'are', 'signed', 'in', 'and', 'will', 'be', 'centrally', 'managed', 'within', 'My', 'Activity', '.']\n",
      "['Past', 'history', 'will', 'be', 'cleared', 'during', 'this', 'upgrade', ',', 'so', 'make', 'sure', 'to', 'save', 'translations', 'you', 'want', 'to', 'remember', 'for', 'ease', 'of', 'access', 'later', '.']\n",
      "['Translation', 'history', 'will', 'soon', 'only', 'be', 'available', 'when', 'you', 'are', 'signed', 'in', 'and', 'will', 'be', 'centrally', 'managed', 'within', 'My', 'Activity', '.']\n",
      "['Past', 'history', 'will', 'be', 'cleared', 'during', 'this', 'upgrade', ',', 'so', 'make', 'sure', 'to', 'save', 'translations', 'you', 'want', 'to', 'remember', 'for', 'ease', 'of', 'access', 'later', '.']\n",
      "['Translation', 'history', 'will', 'soon', 'only', 'be', 'available', 'when', 'you', 'are', 'signed', 'in', 'and', 'will', 'be', 'centrally', 'managed', 'within', 'My', 'Activity', '.']\n",
      "['Past', 'history', 'will', 'be', 'cleared', 'during', 'this', 'upgrade', ',', 'so', 'make', 'sure', 'to', 'save', 'translations', 'you', 'want', 'to', 'remember', 'for', 'ease', 'of', 'access', 'later', '.']\n",
      "['Translation', 'history', 'will', 'soon', 'only', 'be', 'available', 'when', 'you', 'are', 'signed', 'in', 'and', 'will', 'be', 'centrally', 'managed', 'within', 'My', 'Activity', '.']\n",
      "['Past', 'history', 'will', 'be', 'cleared', 'during', 'this', 'upgrade', ',', 'so', 'make', 'sure', 'to', 'save', 'translations', 'you', 'want', 'to', 'remember', 'for', 'ease', 'of', 'access', 'later', '.']\n",
      "['Translation', 'history', 'will', 'soon', 'only', 'be', 'available', 'when', 'you', 'are', 'signed', 'in', 'and', 'will', 'be', 'centrally', 'managed', 'within', 'My', 'Activity', '.']\n",
      "['Past', 'history', 'will', 'be', 'cleared', 'during', 'this', 'upgrade', ',', 'so', 'make', 'sure', 'to', 'save', 'translations', 'you', 'want', 'to', 'remember', 'for', 'ease', 'of', 'access', 'later', '.']\n",
      "['Translation', 'history', 'will', 'soon', 'only', 'be', 'available', 'when', 'you', 'are', 'signed', 'in', 'and', 'will', 'be', 'centrally', 'managed', 'within', 'My', 'Activity', '.']\n",
      "['Past', 'history', 'will', 'be', 'cleared', 'during', 'this', 'upgrade', ',', 'so', 'make', 'sure', 'to', 'save', 'translations', 'you', 'want', 'to', 'remember', 'for', 'ease', 'of', 'access', 'later', '.']\n",
      "['Translation', 'history', 'will', 'soon', 'only', 'be', 'available', 'when', 'you', 'are', 'signed', 'in', 'and', 'will', 'be', 'centrally', 'managed', 'within', 'My', 'Activity', '.']\n",
      "['Past', 'history', 'will', 'be', 'cleared', 'during', 'this', 'upgrade', ',', 'so', 'make', 'sure', 'to', 'save', 'translations', 'you', 'want', 'to', 'remember', 'for', 'ease', 'of', 'access', 'later', '.']\n",
      "['Translation', 'history', 'will', 'soon', 'only', 'be', 'available', 'when', 'you', 'are', 'signed', 'in', 'and', 'will', 'be', 'centrally', 'managed', 'within', 'My', 'Activity', '.']\n",
      "['Past', 'history', 'will', 'be', 'cleared', 'during', 'this', 'upgrade', ',', 'so', 'make', 'sure', 'to', 'save', 'translations', 'you', 'want', 'to', 'remember', 'for', 'ease', 'of', 'access', 'later', '.']\n",
      "['Translation', 'history', 'will', 'soon', 'only', 'be', 'available', 'when', 'you', 'are', 'signed', 'in', 'and', 'will', 'be', 'centrally', 'managed', 'within', 'My', 'Activity', '.']\n",
      "['Past', 'history', 'will', 'be', 'cleared', 'during', 'this', 'upgrade', ',', 'so', 'make', 'sure', 'to', 'save', 'translations', 'you', 'want', 'to', 'remember', 'for', 'ease', 'of', 'access', 'later', '.']\n",
      "['Translation', 'history', 'will', 'soon', 'only', 'be', 'available', 'when', 'you', 'are', 'signed', 'in', 'and', 'will', 'be', 'centrally', 'managed', 'within', 'My', 'Activity', '.']\n",
      "['Past', 'history', 'will', 'be', 'cleared', 'during', 'this', 'upgrade', ',', 'so', 'make', 'sure', 'to', 'save', 'translations', 'you', 'want', 'to', 'remember', 'for', 'ease', 'of', 'access', 'later', '.']\n",
      "['Translation', 'history', 'will', 'soon', 'only', 'be', 'available', 'when', 'you', 'are', 'signed', 'in', 'and', 'will', 'be', 'centrally', 'managed', 'within', 'My', 'Activity', '.']\n",
      "['Past', 'history', 'will', 'be', 'cleared', 'during', 'this', 'upgrade', ',', 'so', 'make', 'sure', 'to', 'save', 'translations', 'you', 'want', 'to', 'remember', 'for', 'ease', 'of', 'access', 'later', '.']\n",
      "['Translation', 'history', 'will', 'soon', 'only', 'be', 'available', 'when', 'you', 'are', 'signed', 'in', 'and', 'will', 'be', 'centrally', 'managed', 'within', 'My', 'Activity', '.']\n",
      "['Past', 'history', 'will', 'be', 'cleared', 'during', 'this', 'upgrade', ',', 'so', 'make', 'sure', 'to', 'save', 'translations', 'you', 'want', 'to', 'remember', 'for', 'ease', 'of', 'access', 'later', '.']\n",
      "['Translation', 'history', 'will', 'soon', 'only', 'be', 'available', 'when', 'you', 'are', 'signed', 'in', 'and', 'will', 'be', 'centrally', 'managed', 'within', 'My', 'Activity', '.']\n",
      "['Past', 'history', 'will', 'be', 'cleared', 'during', 'this', 'upgrade', ',', 'so', 'make', 'sure', 'to', 'save', 'translations', 'you', 'want', 'to', 'remember', 'for', 'ease', 'of', 'access', 'later', '.']\n",
      "['Translation', 'history', 'will', 'soon', 'only', 'be', 'available', 'when', 'you', 'are', 'signed', 'in', 'and', 'will', 'be', 'centrally', 'managed', 'within', 'My', 'Activity', '.']\n",
      "['Past', 'history', 'will', 'be', 'cleared', 'during', 'this', 'upgrade', ',', 'so', 'make', 'sure', 'to', 'save', 'translations', 'you', 'want', 'to', 'remember', 'for', 'ease', 'of', 'access', 'later', '.']\n",
      "['Translation', 'history', 'will', 'soon', 'only', 'be', 'available', 'when', 'you', 'are', 'signed', 'in', 'and', 'will', 'be', 'centrally', 'managed', 'within', 'My', 'Activity', '.']\n",
      "['Past', 'history', 'will', 'be', 'cleared', 'during', 'this', 'upgrade', ',', 'so', 'make', 'sure', 'to', 'save', 'translations', 'you', 'want', 'to', 'remember', 'for', 'ease', 'of', 'access', 'later', '.']\n",
      "['Translation', 'history', 'will', 'soon', 'only', 'be', 'available', 'when', 'you', 'are', 'signed', 'in', 'and', 'will', 'be', 'centrally', 'managed', 'within', 'My', 'Activity', '.']\n",
      "['Past', 'history', 'will', 'be', 'cleared', 'during', 'this', 'upgrade', ',', 'so', 'make', 'sure', 'to', 'save', 'translations', 'you', 'want', 'to', 'remember', 'for', 'ease', 'of', 'access', 'later', '.']\n",
      "['Translation', 'history', 'will', 'soon', 'only', 'be', 'available', 'when', 'you', 'are', 'signed', 'in', 'and', 'will', 'be', 'centrally', 'managed', 'within', 'My', 'Activity', '.']\n",
      "['Past', 'history', 'will', 'be', 'cleared', 'during', 'this', 'upgrade', ',', 'so', 'make', 'sure', 'to', 'save', 'translations', 'you', 'want', 'to', 'remember', 'for', 'ease', 'of', 'access', 'later', '.']\n",
      "['Translation', 'history', 'will', 'soon', 'only', 'be', 'available', 'when', 'you', 'are', 'signed', 'in', 'and', 'will', 'be', 'centrally', 'managed', 'within', 'My', 'Activity', '.']\n",
      "['Past', 'history', 'will', 'be', 'cleared', 'during', 'this', 'upgrade', ',', 'so', 'make', 'sure', 'to', 'save', 'translations', 'you', 'want', 'to', 'remember', 'for', 'ease', 'of', 'access', 'later', '.']\n",
      "['Translation', 'history', 'will', 'soon', 'only', 'be', 'available', 'when', 'you', 'are', 'signed', 'in', 'and', 'will', 'be', 'centrally', 'managed', 'within', 'My', 'Activity', '.']\n",
      "['Past', 'history', 'will', 'be', 'cleared', 'during', 'this', 'upgrade', ',', 'so', 'make', 'sure', 'to', 'save', 'translations', 'you', 'want', 'to', 'remember', 'for', 'ease', 'of', 'access', 'later', '.']\n",
      "['Translation', 'history', 'will', 'soon', 'only', 'be', 'available', 'when', 'you', 'are', 'signed', 'in', 'and', 'will', 'be', 'centrally', 'managed', 'within', 'My', 'Activity', '.']\n",
      "['Past', 'history', 'will', 'be', 'cleared', 'during', 'this', 'upgrade', ',', 'so', 'make', 'sure', 'to', 'save', 'translations', 'you', 'want', 'to', 'remember', 'for', 'ease', 'of', 'access', 'later', '.']\n",
      "['Translation', 'history', 'will', 'soon', 'only', 'be', 'available', 'when', 'you', 'are', 'signed', 'in', 'and', 'will', 'be', 'centrally', 'managed', 'within', 'My', 'Activity', '.']\n",
      "['Past', 'history', 'will', 'be', 'cleared', 'during', 'this', 'upgrade', ',', 'so', 'make', 'sure', 'to', 'save', 'translations', 'you', 'want', 'to', 'remember', 'for', 'ease', 'of', 'access', 'later', '.']\n",
      "['Translation', 'history', 'will', 'soon', 'only', 'be', 'available', 'when', 'you', 'are', 'signed', 'in', 'and', 'will', 'be', 'centrally', 'managed', 'within', 'My', 'Activity', '.']\n",
      "['Past', 'history', 'will', 'be', 'cleared', 'during', 'this', 'upgrade', ',', 'so', 'make', 'sure', 'to', 'save', 'translations', 'you', 'want', 'to', 'remember', 'for', 'ease', 'of', 'access', 'later', '.']\n",
      "['Translation', 'history', 'will', 'soon', 'only', 'be', 'available', 'when', 'you', 'are', 'signed', 'in', 'and', 'will', 'be', 'centrally', 'managed', 'within', 'My', 'Activity', '.']\n",
      "['Past', 'history', 'will', 'be', 'cleared', 'during', 'this', 'upgrade', ',', 'so', 'make', 'sure', 'to', 'save', 'translations', 'you', 'want', 'to', 'remember', 'for', 'ease', 'of', 'access', 'later', '.']\n",
      "['Translation', 'history', 'will', 'soon', 'only', 'be', 'available', 'when', 'you', 'are', 'signed', 'in', 'and', 'will', 'be', 'centrally', 'managed', 'within', 'My', 'Activity', '.']\n",
      "['Past', 'history', 'will', 'be', 'cleared', 'during', 'this', 'upgrade', ',', 'so', 'make', 'sure', 'to', 'save', 'translations', 'you', 'want', 'to', 'remember', 'for', 'ease', 'of', 'access', 'later', '.']\n",
      "['Translation', 'history', 'will', 'soon', 'only', 'be', 'available', 'when', 'you', 'are', 'signed', 'in', 'and', 'will', 'be', 'centrally', 'managed', 'within', 'My', 'Activity', '.']\n",
      "['Past', 'history', 'will', 'be', 'cleared', 'during', 'this', 'upgrade', ',', 'so', 'make', 'sure', 'to', 'save', 'translations', 'you', 'want', 'to', 'remember', 'for', 'ease', 'of', 'access', 'later', '.']\n",
      "['Translation', 'history', 'will', 'soon', 'only', 'be', 'available', 'when', 'you', 'are', 'signed', 'in', 'and', 'will', 'be', 'centrally', 'managed', 'within', 'My', 'Activity', '.']\n",
      "['Past', 'history', 'will', 'be', 'cleared', 'during', 'this', 'upgrade', ',', 'so', 'make', 'sure', 'to', 'save', 'translations', 'you', 'want', 'to', 'remember', 'for', 'ease', 'of', 'access', 'later', '.']\n",
      "['Translation', 'history', 'will', 'soon', 'only', 'be', 'available', 'when', 'you', 'are', 'signed', 'in', 'and', 'will', 'be', 'centrally', 'managed', 'within', 'My', 'Activity', '.']\n",
      "['Past', 'history', 'will', 'be', 'cleared', 'during', 'this', 'upgrade', ',', 'so', 'make', 'sure', 'to', 'save', 'translations', 'you', 'want', 'to', 'remember', 'for', 'ease', 'of', 'access', 'later', '.']\n",
      "['Translation', 'history', 'will', 'soon', 'only', 'be', 'available', 'when', 'you', 'are', 'signed', 'in', 'and', 'will', 'be', 'centrally', 'managed', 'within', 'My', 'Activity', '.']\n",
      "['Past', 'history', 'will', 'be', 'cleared', 'during', 'this', 'upgrade', ',', 'so', 'make', 'sure', 'to', 'save', 'translations', 'you', 'want', 'to', 'remember', 'for', 'ease', 'of', 'access', 'later', '.']\n",
      "['Translation', 'history', 'will', 'soon', 'only', 'be', 'available', 'when', 'you', 'are', 'signed', 'in', 'and', 'will', 'be', 'centrally', 'managed', 'within', 'My', 'Activity', '.']\n",
      "['Past', 'history', 'will', 'be', 'cleared', 'during', 'this', 'upgrade', ',', 'so', 'make', 'sure', 'to', 'save', 'translations', 'you', 'want', 'to', 'remember', 'for', 'ease', 'of', 'access', 'later', '.']\n",
      "['Translation', 'history', 'will', 'soon', 'only', 'be', 'available', 'when', 'you', 'are', 'signed', 'in', 'and', 'will', 'be', 'centrally', 'managed', 'within', 'My', 'Activity', '.']\n",
      "['Past', 'history', 'will', 'be', 'cleared', 'during', 'this', 'upgrade', ',', 'so', 'make', 'sure', 'to', 'save', 'translations', 'you', 'want', 'to', 'remember', 'for', 'ease', 'of', 'access', 'later', '.']\n",
      "['Translation', 'history', 'will', 'soon', 'only', 'be', 'available', 'when', 'you', 'are', 'signed', 'in', 'and', 'will', 'be', 'centrally', 'managed', 'within', 'My', 'Activity', '.']\n",
      "['Past', 'history', 'will', 'be', 'cleared', 'during', 'this', 'upgrade', ',', 'so', 'make', 'sure', 'to', 'save', 'translations', 'you', 'want', 'to', 'remember', 'for', 'ease', 'of', 'access', 'later', '.']\n",
      "['Translation', 'history', 'will', 'soon', 'only', 'be', 'available', 'when', 'you', 'are', 'signed', 'in', 'and', 'will', 'be', 'centrally', 'managed', 'within', 'My', 'Activity', '.']\n",
      "['Past', 'history', 'will', 'be', 'cleared', 'during', 'this', 'upgrade', ',', 'so', 'make', 'sure', 'to', 'save', 'translations', 'you', 'want', 'to', 'remember', 'for', 'ease', 'of', 'access', 'later', '.']\n",
      "['Translation', 'history', 'will', 'soon', 'only', 'be', 'available', 'when', 'you', 'are', 'signed', 'in', 'and', 'will', 'be', 'centrally', 'managed', 'within', 'My', 'Activity', '.']\n",
      "['Past', 'history', 'will', 'be', 'cleared', 'during', 'this', 'upgrade', ',', 'so', 'make', 'sure', 'to', 'save', 'translations', 'you', 'want', 'to', 'remember', 'for', 'ease', 'of', 'access', 'later', '.']\n",
      "['Translation', 'history', 'will', 'soon', 'only', 'be', 'available', 'when', 'you', 'are', 'signed', 'in', 'and', 'will', 'be', 'centrally', 'managed', 'within', 'My', 'Activity', '.']\n",
      "['Past', 'history', 'will', 'be', 'cleared', 'during', 'this', 'upgrade', ',', 'so', 'make', 'sure', 'to', 'save', 'translations', 'you', 'want', 'to', 'remember', 'for', 'ease', 'of', 'access', 'later', '.']\n",
      "['Translation', 'history', 'will', 'soon', 'only', 'be', 'available', 'when', 'you', 'are', 'signed', 'in', 'and', 'will', 'be', 'centrally', 'managed', 'within', 'My', 'Activity', '.']\n"
     ]
    },
    {
     "name": "stdout",
     "output_type": "stream",
     "text": [
      "['Past', 'history', 'will', 'be', 'cleared', 'during', 'this', 'upgrade', ',', 'so', 'make', 'sure', 'to', 'save', 'translations', 'you', 'want', 'to', 'remember', 'for', 'ease', 'of', 'access', 'later', '.']\n",
      "['Translation', 'history', 'will', 'soon', 'only', 'be', 'available', 'when', 'you', 'are', 'signed', 'in', 'and', 'will', 'be', 'centrally', 'managed', 'within', 'My', 'Activity', '.']\n",
      "['Past', 'history', 'will', 'be', 'cleared', 'during', 'this', 'upgrade', ',', 'so', 'make', 'sure', 'to', 'save', 'translations', 'you', 'want', 'to', 'remember', 'for', 'ease', 'of', 'access', 'later', '.']\n",
      "['Translation', 'history', 'will', 'soon', 'only', 'be', 'available', 'when', 'you', 'are', 'signed', 'in', 'and', 'will', 'be', 'centrally', 'managed', 'within', 'My', 'Activity', '.']\n",
      "['Past', 'history', 'will', 'be', 'cleared', 'during', 'this', 'upgrade', ',', 'so', 'make', 'sure', 'to', 'save', 'translations', 'you', 'want', 'to', 'remember', 'for', 'ease', 'of', 'access', 'later', '.']\n",
      "['Translation', 'history', 'will', 'soon', 'only', 'be', 'available', 'when', 'you', 'are', 'signed', 'in', 'and', 'will', 'be', 'centrally', 'managed', 'within', 'My', 'Activity', '.']\n",
      "['Past', 'history', 'will', 'be', 'cleared', 'during', 'this', 'upgrade', ',', 'so', 'make', 'sure', 'to', 'save', 'translations', 'you', 'want', 'to', 'remember', 'for', 'ease', 'of', 'access', 'later', '.']\n",
      "['Translation', 'history', 'will', 'soon', 'only', 'be', 'available', 'when', 'you', 'are', 'signed', 'in', 'and', 'will', 'be', 'centrally', 'managed', 'within', 'My', 'Activity', '.']\n",
      "['Past', 'history', 'will', 'be', 'cleared', 'during', 'this', 'upgrade', ',', 'so', 'make', 'sure', 'to', 'save', 'translations', 'you', 'want', 'to', 'remember', 'for', 'ease', 'of', 'access', 'later', '.']\n",
      "['Translation', 'history', 'will', 'soon', 'only', 'be', 'available', 'when', 'you', 'are', 'signed', 'in', 'and', 'will', 'be', 'centrally', 'managed', 'within', 'My', 'Activity', '.']\n",
      "['Past', 'history', 'will', 'be', 'cleared', 'during', 'this', 'upgrade', ',', 'so', 'make', 'sure', 'to', 'save', 'translations', 'you', 'want', 'to', 'remember', 'for', 'ease', 'of', 'access', 'later', '.']\n",
      "['Translation', 'history', 'will', 'soon', 'only', 'be', 'available', 'when', 'you', 'are', 'signed', 'in', 'and', 'will', 'be', 'centrally', 'managed', 'within', 'My', 'Activity', '.']\n",
      "['Past', 'history', 'will', 'be', 'cleared', 'during', 'this', 'upgrade', ',', 'so', 'make', 'sure', 'to', 'save', 'translations', 'you', 'want', 'to', 'remember', 'for', 'ease', 'of', 'access', 'later', '.']\n",
      "['Translation', 'history', 'will', 'soon', 'only', 'be', 'available', 'when', 'you', 'are', 'signed', 'in', 'and', 'will', 'be', 'centrally', 'managed', 'within', 'My', 'Activity', '.']\n",
      "['Past', 'history', 'will', 'be', 'cleared', 'during', 'this', 'upgrade', ',', 'so', 'make', 'sure', 'to', 'save', 'translations', 'you', 'want', 'to', 'remember', 'for', 'ease', 'of', 'access', 'later', '.']\n",
      "['Translation', 'history', 'will', 'soon', 'only', 'be', 'available', 'when', 'you', 'are', 'signed', 'in', 'and', 'will', 'be', 'centrally', 'managed', 'within', 'My', 'Activity', '.']\n",
      "['Past', 'history', 'will', 'be', 'cleared', 'during', 'this', 'upgrade', ',', 'so', 'make', 'sure', 'to', 'save', 'translations', 'you', 'want', 'to', 'remember', 'for', 'ease', 'of', 'access', 'later', '.']\n",
      "['Translation', 'history', 'will', 'soon', 'only', 'be', 'available', 'when', 'you', 'are', 'signed', 'in', 'and', 'will', 'be', 'centrally', 'managed', 'within', 'My', 'Activity', '.']\n",
      "['Past', 'history', 'will', 'be', 'cleared', 'during', 'this', 'upgrade', ',', 'so', 'make', 'sure', 'to', 'save', 'translations', 'you', 'want', 'to', 'remember', 'for', 'ease', 'of', 'access', 'later', '.']\n",
      "['Translation', 'history', 'will', 'soon', 'only', 'be', 'available', 'when', 'you', 'are', 'signed', 'in', 'and', 'will', 'be', 'centrally', 'managed', 'within', 'My', 'Activity', '.']\n",
      "['Past', 'history', 'will', 'be', 'cleared', 'during', 'this', 'upgrade', ',', 'so', 'make', 'sure', 'to', 'save', 'translations', 'you', 'want', 'to', 'remember', 'for', 'ease', 'of', 'access', 'later', '.']\n",
      "['Translation', 'history', 'will', 'soon', 'only', 'be', 'available', 'when', 'you', 'are', 'signed', 'in', 'and', 'will', 'be', 'centrally', 'managed', 'within', 'My', 'Activity', '.']\n",
      "['Past', 'history', 'will', 'be', 'cleared', 'during', 'this', 'upgrade', ',', 'so', 'make', 'sure', 'to', 'save', 'translations', 'you', 'want', 'to', 'remember', 'for', 'ease', 'of', 'access', 'later', '.']\n",
      "['Translation', 'history', 'will', 'soon', 'only', 'be', 'available', 'when', 'you', 'are', 'signed', 'in', 'and', 'will', 'be', 'centrally', 'managed', 'within', 'My', 'Activity', '.']\n",
      "['Past', 'history', 'will', 'be', 'cleared', 'during', 'this', 'upgrade', ',', 'so', 'make', 'sure', 'to', 'save', 'translations', 'you', 'want', 'to', 'remember', 'for', 'ease', 'of', 'access', 'later', '.']\n",
      "['Translation', 'history', 'will', 'soon', 'only', 'be', 'available', 'when', 'you', 'are', 'signed', 'in', 'and', 'will', 'be', 'centrally', 'managed', 'within', 'My', 'Activity', '.']\n",
      "['Past', 'history', 'will', 'be', 'cleared', 'during', 'this', 'upgrade', ',', 'so', 'make', 'sure', 'to', 'save', 'translations', 'you', 'want', 'to', 'remember', 'for', 'ease', 'of', 'access', 'later', '.']\n",
      "['Translation', 'history', 'will', 'soon', 'only', 'be', 'available', 'when', 'you', 'are', 'signed', 'in', 'and', 'will', 'be', 'centrally', 'managed', 'within', 'My', 'Activity', '.']\n",
      "['Past', 'history', 'will', 'be', 'cleared', 'during', 'this', 'upgrade', ',', 'so', 'make', 'sure', 'to', 'save', 'translations', 'you', 'want', 'to', 'remember', 'for', 'ease', 'of', 'access', 'later', '.']\n",
      "['Translation', 'history', 'will', 'soon', 'only', 'be', 'available', 'when', 'you', 'are', 'signed', 'in', 'and', 'will', 'be', 'centrally', 'managed', 'within', 'My', 'Activity', '.']\n",
      "['Past', 'history', 'will', 'be', 'cleared', 'during', 'this', 'upgrade', ',', 'so', 'make', 'sure', 'to', 'save', 'translations', 'you', 'want', 'to', 'remember', 'for', 'ease', 'of', 'access', 'later', '.']\n",
      "['Translation', 'history', 'will', 'soon', 'only', 'be', 'available', 'when', 'you', 'are', 'signed', 'in', 'and', 'will', 'be', 'centrally', 'managed', 'within', 'My', 'Activity', '.']\n",
      "['Past', 'history', 'will', 'be', 'cleared', 'during', 'this', 'upgrade', ',', 'so', 'make', 'sure', 'to', 'save', 'translations', 'you', 'want', 'to', 'remember', 'for', 'ease', 'of', 'access', 'later', '.']\n",
      "['Translation', 'history', 'will', 'soon', 'only', 'be', 'available', 'when', 'you', 'are', 'signed', 'in', 'and', 'will', 'be', 'centrally', 'managed', 'within', 'My', 'Activity', '.']\n",
      "['Past', 'history', 'will', 'be', 'cleared', 'during', 'this', 'upgrade', ',', 'so', 'make', 'sure', 'to', 'save', 'translations', 'you', 'want', 'to', 'remember', 'for', 'ease', 'of', 'access', 'later', '.']\n",
      "['Translation', 'history', 'will', 'soon', 'only', 'be', 'available', 'when', 'you', 'are', 'signed', 'in', 'and', 'will', 'be', 'centrally', 'managed', 'within', 'My', 'Activity', '.']\n",
      "['Past', 'history', 'will', 'be', 'cleared', 'during', 'this', 'upgrade', ',', 'so', 'make', 'sure', 'to', 'save', 'translations', 'you', 'want', 'to', 'remember', 'for', 'ease', 'of', 'access', 'later', '.']\n",
      "['Translation', 'history', 'will', 'soon', 'only', 'be', 'available', 'when', 'you', 'are', 'signed', 'in', 'and', 'will', 'be', 'centrally', 'managed', 'within', 'My', 'Activity', '.']\n",
      "['Past', 'history', 'will', 'be', 'cleared', 'during', 'this', 'upgrade', ',', 'so', 'make', 'sure', 'to', 'save', 'translations', 'you', 'want', 'to', 'remember', 'for', 'ease', 'of', 'access', 'later', '.']\n",
      "['Translation', 'history', 'will', 'soon', 'only', 'be', 'available', 'when', 'you', 'are', 'signed', 'in', 'and', 'will', 'be', 'centrally', 'managed', 'within', 'My', 'Activity', '.']\n",
      "['Past', 'history', 'will', 'be', 'cleared', 'during', 'this', 'upgrade', ',', 'so', 'make', 'sure', 'to', 'save', 'translations', 'you', 'want', 'to', 'remember', 'for', 'ease', 'of', 'access', 'later', '.']\n",
      "['Translation', 'history', 'will', 'soon', 'only', 'be', 'available', 'when', 'you', 'are', 'signed', 'in', 'and', 'will', 'be', 'centrally', 'managed', 'within', 'My', 'Activity', '.']\n",
      "['Past', 'history', 'will', 'be', 'cleared', 'during', 'this', 'upgrade', ',', 'so', 'make', 'sure', 'to', 'save', 'translations', 'you', 'want', 'to', 'remember', 'for', 'ease', 'of', 'access', 'later', '.']\n",
      "['Translation', 'history', 'will', 'soon', 'only', 'be', 'available', 'when', 'you', 'are', 'signed', 'in', 'and', 'will', 'be', 'centrally', 'managed', 'within', 'My', 'Activity', '.']\n",
      "['Past', 'history', 'will', 'be', 'cleared', 'during', 'this', 'upgrade', ',', 'so', 'make', 'sure', 'to', 'save', 'translations', 'you', 'want', 'to', 'remember', 'for', 'ease', 'of', 'access', 'later', '.']\n",
      "['Translation', 'history', 'will', 'soon', 'only', 'be', 'available', 'when', 'you', 'are', 'signed', 'in', 'and', 'will', 'be', 'centrally', 'managed', 'within', 'My', 'Activity', '.']\n",
      "['Past', 'history', 'will', 'be', 'cleared', 'during', 'this', 'upgrade', ',', 'so', 'make', 'sure', 'to', 'save', 'translations', 'you', 'want', 'to', 'remember', 'for', 'ease', 'of', 'access', 'later', '.']\n",
      "['Translation', 'history', 'will', 'soon', 'only', 'be', 'available', 'when', 'you', 'are', 'signed', 'in', 'and', 'will', 'be', 'centrally', 'managed', 'within', 'My', 'Activity', '.']\n",
      "['Past', 'history', 'will', 'be', 'cleared', 'during', 'this', 'upgrade', ',', 'so', 'make', 'sure', 'to', 'save', 'translations', 'you', 'want', 'to', 'remember', 'for', 'ease', 'of', 'access', 'later', '.']\n",
      "['Translation', 'history', 'will', 'soon', 'only', 'be', 'available', 'when', 'you', 'are', 'signed', 'in', 'and', 'will', 'be', 'centrally', 'managed', 'within', 'My', 'Activity', '.']\n",
      "['Past', 'history', 'will', 'be', 'cleared', 'during', 'this', 'upgrade', ',', 'so', 'make', 'sure', 'to', 'save', 'translations', 'you', 'want', 'to', 'remember', 'for', 'ease', 'of', 'access', 'later', '.']\n",
      "['Translation', 'history', 'will', 'soon', 'only', 'be', 'available', 'when', 'you', 'are', 'signed', 'in', 'and', 'will', 'be', 'centrally', 'managed', 'within', 'My', 'Activity', '.']\n",
      "['Past', 'history', 'will', 'be', 'cleared', 'during', 'this', 'upgrade', ',', 'so', 'make', 'sure', 'to', 'save', 'translations', 'you', 'want', 'to', 'remember', 'for', 'ease', 'of', 'access', 'later', '.']\n",
      "['Translation', 'history', 'will', 'soon', 'only', 'be', 'available', 'when', 'you', 'are', 'signed', 'in', 'and', 'will', 'be', 'centrally', 'managed', 'within', 'My', 'Activity', '.']\n",
      "['Past', 'history', 'will', 'be', 'cleared', 'during', 'this', 'upgrade', ',', 'so', 'make', 'sure', 'to', 'save', 'translations', 'you', 'want', 'to', 'remember', 'for', 'ease', 'of', 'access', 'later', '.']\n",
      "['Translation', 'history', 'will', 'soon', 'only', 'be', 'available', 'when', 'you', 'are', 'signed', 'in', 'and', 'will', 'be', 'centrally', 'managed', 'within', 'My', 'Activity', '.']\n",
      "['Past', 'history', 'will', 'be', 'cleared', 'during', 'this', 'upgrade', ',', 'so', 'make', 'sure', 'to', 'save', 'translations', 'you', 'want', 'to', 'remember', 'for', 'ease', 'of', 'access', 'later', '.']\n",
      "['Translation', 'history', 'will', 'soon', 'only', 'be', 'available', 'when', 'you', 'are', 'signed', 'in', 'and', 'will', 'be', 'centrally', 'managed', 'within', 'My', 'Activity', '.']\n",
      "['Past', 'history', 'will', 'be', 'cleared', 'during', 'this', 'upgrade', ',', 'so', 'make', 'sure', 'to', 'save', 'translations', 'you', 'want', 'to', 'remember', 'for', 'ease', 'of', 'access', 'later', '.']\n",
      "['Translation', 'history', 'will', 'soon', 'only', 'be', 'available', 'when', 'you', 'are', 'signed', 'in', 'and', 'will', 'be', 'centrally', 'managed', 'within', 'My', 'Activity', '.']\n",
      "['Past', 'history', 'will', 'be', 'cleared', 'during', 'this', 'upgrade', ',', 'so', 'make', 'sure', 'to', 'save', 'translations', 'you', 'want', 'to', 'remember', 'for', 'ease', 'of', 'access', 'later', '.']\n",
      "['Translation', 'history', 'will', 'soon', 'only', 'be', 'available', 'when', 'you', 'are', 'signed', 'in', 'and', 'will', 'be', 'centrally', 'managed', 'within', 'My', 'Activity', '.']\n",
      "['Past', 'history', 'will', 'be', 'cleared', 'during', 'this', 'upgrade', ',', 'so', 'make', 'sure', 'to', 'save', 'translations', 'you', 'want', 'to', 'remember', 'for', 'ease', 'of', 'access', 'later', '.']\n",
      "['Translation', 'history', 'will', 'soon', 'only', 'be', 'available', 'when', 'you', 'are', 'signed', 'in', 'and', 'will', 'be', 'centrally', 'managed', 'within', 'My', 'Activity', '.']\n",
      "['Past', 'history', 'will', 'be', 'cleared', 'during', 'this', 'upgrade', ',', 'so', 'make', 'sure', 'to', 'save', 'translations', 'you', 'want', 'to', 'remember', 'for', 'ease', 'of', 'access', 'later', '.']\n",
      "['Translation', 'history', 'will', 'soon', 'only', 'be', 'available', 'when', 'you', 'are', 'signed', 'in', 'and', 'will', 'be', 'centrally', 'managed', 'within', 'My', 'Activity', '.']\n",
      "['Past', 'history', 'will', 'be', 'cleared', 'during', 'this', 'upgrade', ',', 'so', 'make', 'sure', 'to', 'save', 'translations', 'you', 'want', 'to', 'remember', 'for', 'ease', 'of', 'access', 'later', '.']\n",
      "['Translation', 'history', 'will', 'soon', 'only', 'be', 'available', 'when', 'you', 'are', 'signed', 'in', 'and', 'will', 'be', 'centrally', 'managed', 'within', 'My', 'Activity', '.']\n",
      "['Past', 'history', 'will', 'be', 'cleared', 'during', 'this', 'upgrade', ',', 'so', 'make', 'sure', 'to', 'save', 'translations', 'you', 'want', 'to', 'remember', 'for', 'ease', 'of', 'access', 'later', '.']\n",
      "['Translation', 'history', 'will', 'soon', 'only', 'be', 'available', 'when', 'you', 'are', 'signed', 'in', 'and', 'will', 'be', 'centrally', 'managed', 'within', 'My', 'Activity', '.']\n",
      "['Past', 'history', 'will', 'be', 'cleared', 'during', 'this', 'upgrade', ',', 'so', 'make', 'sure', 'to', 'save', 'translations', 'you', 'want', 'to', 'remember', 'for', 'ease', 'of', 'access', 'later', '.']\n",
      "['Translation', 'history', 'will', 'soon', 'only', 'be', 'available', 'when', 'you', 'are', 'signed', 'in', 'and', 'will', 'be', 'centrally', 'managed', 'within', 'My', 'Activity', '.']\n",
      "['Past', 'history', 'will', 'be', 'cleared', 'during', 'this', 'upgrade', ',', 'so', 'make', 'sure', 'to', 'save', 'translations', 'you', 'want', 'to', 'remember', 'for', 'ease', 'of', 'access', 'later', '.']\n",
      "['Translation', 'history', 'will', 'soon', 'only', 'be', 'available', 'when', 'you', 'are', 'signed', 'in', 'and', 'will', 'be', 'centrally', 'managed', 'within', 'My', 'Activity', '.']\n",
      "['Past', 'history', 'will', 'be', 'cleared', 'during', 'this', 'upgrade', ',', 'so', 'make', 'sure', 'to', 'save', 'translations', 'you', 'want', 'to', 'remember', 'for', 'ease', 'of', 'access', 'later', '.']\n",
      "['Translation', 'history', 'will', 'soon', 'only', 'be', 'available', 'when', 'you', 'are', 'signed', 'in', 'and', 'will', 'be', 'centrally', 'managed', 'within', 'My', 'Activity', '.']\n",
      "['Past', 'history', 'will', 'be', 'cleared', 'during', 'this', 'upgrade', ',', 'so', 'make', 'sure', 'to', 'save', 'translations', 'you', 'want', 'to', 'remember', 'for', 'ease', 'of', 'access', 'later', '.']\n",
      "['Translation', 'history', 'will', 'soon', 'only', 'be', 'available', 'when', 'you', 'are', 'signed', 'in', 'and', 'will', 'be', 'centrally', 'managed', 'within', 'My', 'Activity', '.']\n",
      "['Past', 'history', 'will', 'be', 'cleared', 'during', 'this', 'upgrade', ',', 'so', 'make', 'sure', 'to', 'save', 'translations', 'you', 'want', 'to', 'remember', 'for', 'ease', 'of', 'access', 'later', '.']\n",
      "['Translation', 'history', 'will', 'soon', 'only', 'be', 'available', 'when', 'you', 'are', 'signed', 'in', 'and', 'will', 'be', 'centrally', 'managed', 'within', 'My', 'Activity', '.']\n",
      "['Past', 'history', 'will', 'be', 'cleared', 'during', 'this', 'upgrade', ',', 'so', 'make', 'sure', 'to', 'save', 'translations', 'you', 'want', 'to', 'remember', 'for', 'ease', 'of', 'access', 'later', '.']\n",
      "['Translation', 'history', 'will', 'soon', 'only', 'be', 'available', 'when', 'you', 'are', 'signed', 'in', 'and', 'will', 'be', 'centrally', 'managed', 'within', 'My', 'Activity', '.']\n",
      "['Past', 'history', 'will', 'be', 'cleared', 'during', 'this', 'upgrade', ',', 'so', 'make', 'sure', 'to', 'save', 'translations', 'you', 'want', 'to', 'remember', 'for', 'ease', 'of', 'access', 'later', '.']\n",
      "['Translation', 'history', 'will', 'soon', 'only', 'be', 'available', 'when', 'you', 'are', 'signed', 'in', 'and', 'will', 'be', 'centrally', 'managed', 'within', 'My', 'Activity', '.']\n",
      "['Past', 'history', 'will', 'be', 'cleared', 'during', 'this', 'upgrade', ',', 'so', 'make', 'sure', 'to', 'save', 'translations', 'you', 'want', 'to', 'remember', 'for', 'ease', 'of', 'access', 'later', '.']\n",
      "['Translation', 'history', 'will', 'soon', 'only', 'be', 'available', 'when', 'you', 'are', 'signed', 'in', 'and', 'will', 'be', 'centrally', 'managed', 'within', 'My', 'Activity', '.']\n",
      "['Past', 'history', 'will', 'be', 'cleared', 'during', 'this', 'upgrade', ',', 'so', 'make', 'sure', 'to', 'save', 'translations', 'you', 'want', 'to', 'remember', 'for', 'ease', 'of', 'access', 'later', '.']\n",
      "['Translation', 'history', 'will', 'soon', 'only', 'be', 'available', 'when', 'you', 'are', 'signed', 'in', 'and', 'will', 'be', 'centrally', 'managed', 'within', 'My', 'Activity', '.']\n",
      "['Past', 'history', 'will', 'be', 'cleared', 'during', 'this', 'upgrade', ',', 'so', 'make', 'sure', 'to', 'save', 'translations', 'you', 'want', 'to', 'remember', 'for', 'ease', 'of', 'access', 'later', '.']\n",
      "['Translation', 'history', 'will', 'soon', 'only', 'be', 'available', 'when', 'you', 'are', 'signed', 'in', 'and', 'will', 'be', 'centrally', 'managed', 'within', 'My', 'Activity', '.']\n",
      "['Past', 'history', 'will', 'be', 'cleared', 'during', 'this', 'upgrade', ',', 'so', 'make', 'sure', 'to', 'save', 'translations', 'you', 'want', 'to', 'remember', 'for', 'ease', 'of', 'access', 'later', '.']\n",
      "['Translation', 'history', 'will', 'soon', 'only', 'be', 'available', 'when', 'you', 'are', 'signed', 'in', 'and', 'will', 'be', 'centrally', 'managed', 'within', 'My', 'Activity', '.']\n",
      "['Past', 'history', 'will', 'be', 'cleared', 'during', 'this', 'upgrade', ',', 'so', 'make', 'sure', 'to', 'save', 'translations', 'you', 'want', 'to', 'remember', 'for', 'ease', 'of', 'access', 'later', '.']\n",
      "['Translation', 'history', 'will', 'soon', 'only', 'be', 'available', 'when', 'you', 'are', 'signed', 'in', 'and', 'will', 'be', 'centrally', 'managed', 'within', 'My', 'Activity', '.']\n",
      "['Past', 'history', 'will', 'be', 'cleared', 'during', 'this', 'upgrade', ',', 'so', 'make', 'sure', 'to', 'save', 'translations', 'you', 'want', 'to', 'remember', 'for', 'ease', 'of', 'access', 'later', '.']\n",
      "['Translation', 'history', 'will', 'soon', 'only', 'be', 'available', 'when', 'you', 'are', 'signed', 'in', 'and', 'will', 'be', 'centrally', 'managed', 'within', 'My', 'Activity', '.']\n",
      "['Past', 'history', 'will', 'be', 'cleared', 'during', 'this', 'upgrade', ',', 'so', 'make', 'sure', 'to', 'save', 'translations', 'you', 'want', 'to', 'remember', 'for', 'ease', 'of', 'access', 'later', '.']\n",
      "['Translation', 'history', 'will', 'soon', 'only', 'be', 'available', 'when', 'you', 'are', 'signed', 'in', 'and', 'will', 'be', 'centrally', 'managed', 'within', 'My', 'Activity', '.']\n",
      "['Past', 'history', 'will', 'be', 'cleared', 'during', 'this', 'upgrade', ',', 'so', 'make', 'sure', 'to', 'save', 'translations', 'you', 'want', 'to', 'remember', 'for', 'ease', 'of', 'access', 'later', '.']\n",
      "['Translation', 'history', 'will', 'soon', 'only', 'be', 'available', 'when', 'you', 'are', 'signed', 'in', 'and', 'will', 'be', 'centrally', 'managed', 'within', 'My', 'Activity', '.']\n",
      "['Past', 'history', 'will', 'be', 'cleared', 'during', 'this', 'upgrade', ',', 'so', 'make', 'sure', 'to', 'save', 'translations', 'you', 'want', 'to', 'remember', 'for', 'ease', 'of', 'access', 'later', '.']\n",
      "['Translation', 'history', 'will', 'soon', 'only', 'be', 'available', 'when', 'you', 'are', 'signed', 'in', 'and', 'will', 'be', 'centrally', 'managed', 'within', 'My', 'Activity', '.']\n",
      "['Past', 'history', 'will', 'be', 'cleared', 'during', 'this', 'upgrade', ',', 'so', 'make', 'sure', 'to', 'save', 'translations', 'you', 'want', 'to', 'remember', 'for', 'ease', 'of', 'access', 'later', '.']\n",
      "['Translation', 'history', 'will', 'soon', 'only', 'be', 'available', 'when', 'you', 'are', 'signed', 'in', 'and', 'will', 'be', 'centrally', 'managed', 'within', 'My', 'Activity', '.']\n",
      "['Past', 'history', 'will', 'be', 'cleared', 'during', 'this', 'upgrade', ',', 'so', 'make', 'sure', 'to', 'save', 'translations', 'you', 'want', 'to', 'remember', 'for', 'ease', 'of', 'access', 'later', '.']\n",
      "['Translation', 'history', 'will', 'soon', 'only', 'be', 'available', 'when', 'you', 'are', 'signed', 'in', 'and', 'will', 'be', 'centrally', 'managed', 'within', 'My', 'Activity', '.']\n",
      "['Past', 'history', 'will', 'be', 'cleared', 'during', 'this', 'upgrade', ',', 'so', 'make', 'sure', 'to', 'save', 'translations', 'you', 'want', 'to', 'remember', 'for', 'ease', 'of', 'access', 'later', '.']\n",
      "['Translation', 'history', 'will', 'soon', 'only', 'be', 'available', 'when', 'you', 'are', 'signed', 'in', 'and', 'will', 'be', 'centrally', 'managed', 'within', 'My', 'Activity', '.']\n",
      "['Past', 'history', 'will', 'be', 'cleared', 'during', 'this', 'upgrade', ',', 'so', 'make', 'sure', 'to', 'save', 'translations', 'you', 'want', 'to', 'remember', 'for', 'ease', 'of', 'access', 'later', '.']\n",
      "['Translation', 'history', 'will', 'soon', 'only', 'be', 'available', 'when', 'you', 'are', 'signed', 'in', 'and', 'will', 'be', 'centrally', 'managed', 'within', 'My', 'Activity', '.']\n",
      "['Past', 'history', 'will', 'be', 'cleared', 'during', 'this', 'upgrade', ',', 'so', 'make', 'sure', 'to', 'save', 'translations', 'you', 'want', 'to', 'remember', 'for', 'ease', 'of', 'access', 'later', '.']\n",
      "['Translation', 'history', 'will', 'soon', 'only', 'be', 'available', 'when', 'you', 'are', 'signed', 'in', 'and', 'will', 'be', 'centrally', 'managed', 'within', 'My', 'Activity', '.']\n",
      "['Past', 'history', 'will', 'be', 'cleared', 'during', 'this', 'upgrade', ',', 'so', 'make', 'sure', 'to', 'save', 'translations', 'you', 'want', 'to', 'remember', 'for', 'ease', 'of', 'access', 'later', '.']\n",
      "['Translation', 'history', 'will', 'soon', 'only', 'be', 'available', 'when', 'you', 'are', 'signed', 'in', 'and', 'will', 'be', 'centrally', 'managed', 'within', 'My', 'Activity', '.']\n",
      "['Past', 'history', 'will', 'be', 'cleared', 'during', 'this', 'upgrade', ',', 'so', 'make', 'sure', 'to', 'save', 'translations', 'you', 'want', 'to', 'remember', 'for', 'ease', 'of', 'access', 'later', '.']\n",
      "['Translation', 'history', 'will', 'soon', 'only', 'be', 'available', 'when', 'you', 'are', 'signed', 'in', 'and', 'will', 'be', 'centrally', 'managed', 'within', 'My', 'Activity', '.']\n",
      "['Past', 'history', 'will', 'be', 'cleared', 'during', 'this', 'upgrade', ',', 'so', 'make', 'sure', 'to', 'save', 'translations', 'you', 'want', 'to', 'remember', 'for', 'ease', 'of', 'access', 'later', '.']\n",
      "['Translation', 'history', 'will', 'soon', 'only', 'be', 'available', 'when', 'you', 'are', 'signed', 'in', 'and', 'will', 'be', 'centrally', 'managed', 'within', 'My', 'Activity', '.']\n",
      "['Past', 'history', 'will', 'be', 'cleared', 'during', 'this', 'upgrade', ',', 'so', 'make', 'sure', 'to', 'save', 'translations', 'you', 'want', 'to', 'remember', 'for', 'ease', 'of', 'access', 'later', '.']\n",
      "['Translation', 'history', 'will', 'soon', 'only', 'be', 'available', 'when', 'you', 'are', 'signed', 'in', 'and', 'will', 'be', 'centrally', 'managed', 'within', 'My', 'Activity', '.']\n"
     ]
    },
    {
     "name": "stdout",
     "output_type": "stream",
     "text": [
      "['Past', 'history', 'will', 'be', 'cleared', 'during', 'this', 'upgrade', ',', 'so', 'make', 'sure', 'to', 'save', 'translations', 'you', 'want', 'to', 'remember', 'for', 'ease', 'of', 'access', 'later', '.']\n",
      "['Translation', 'history', 'will', 'soon', 'only', 'be', 'available', 'when', 'you', 'are', 'signed', 'in', 'and', 'will', 'be', 'centrally', 'managed', 'within', 'My', 'Activity', '.']\n",
      "['Past', 'history', 'will', 'be', 'cleared', 'during', 'this', 'upgrade', ',', 'so', 'make', 'sure', 'to', 'save', 'translations', 'you', 'want', 'to', 'remember', 'for', 'ease', 'of', 'access', 'later', '.']\n",
      "['Translation', 'history', 'will', 'soon', 'only', 'be', 'available', 'when', 'you', 'are', 'signed', 'in', 'and', 'will', 'be', 'centrally', 'managed', 'within', 'My', 'Activity', '.']\n",
      "['Past', 'history', 'will', 'be', 'cleared', 'during', 'this', 'upgrade', ',', 'so', 'make', 'sure', 'to', 'save', 'translations', 'you', 'want', 'to', 'remember', 'for', 'ease', 'of', 'access', 'later', '.']\n",
      "['Translation', 'history', 'will', 'soon', 'only', 'be', 'available', 'when', 'you', 'are', 'signed', 'in', 'and', 'will', 'be', 'centrally', 'managed', 'within', 'My', 'Activity', '.']\n",
      "['Past', 'history', 'will', 'be', 'cleared', 'during', 'this', 'upgrade', ',', 'so', 'make', 'sure', 'to', 'save', 'translations', 'you', 'want', 'to', 'remember', 'for', 'ease', 'of', 'access', 'later', '.']\n",
      "['Translation', 'history', 'will', 'soon', 'only', 'be', 'available', 'when', 'you', 'are', 'signed', 'in', 'and', 'will', 'be', 'centrally', 'managed', 'within', 'My', 'Activity', '.']\n",
      "['Past', 'history', 'will', 'be', 'cleared', 'during', 'this', 'upgrade', ',', 'so', 'make', 'sure', 'to', 'save', 'translations', 'you', 'want', 'to', 'remember', 'for', 'ease', 'of', 'access', 'later', '.']\n",
      "['Translation', 'history', 'will', 'soon', 'only', 'be', 'available', 'when', 'you', 'are', 'signed', 'in', 'and', 'will', 'be', 'centrally', 'managed', 'within', 'My', 'Activity', '.']\n",
      "['Past', 'history', 'will', 'be', 'cleared', 'during', 'this', 'upgrade', ',', 'so', 'make', 'sure', 'to', 'save', 'translations', 'you', 'want', 'to', 'remember', 'for', 'ease', 'of', 'access', 'later', '.']\n",
      "['Translation', 'history', 'will', 'soon', 'only', 'be', 'available', 'when', 'you', 'are', 'signed', 'in', 'and', 'will', 'be', 'centrally', 'managed', 'within', 'My', 'Activity', '.']\n",
      "['Past', 'history', 'will', 'be', 'cleared', 'during', 'this', 'upgrade', ',', 'so', 'make', 'sure', 'to', 'save', 'translations', 'you', 'want', 'to', 'remember', 'for', 'ease', 'of', 'access', 'later', '.']\n",
      "['Translation', 'history', 'will', 'soon', 'only', 'be', 'available', 'when', 'you', 'are', 'signed', 'in', 'and', 'will', 'be', 'centrally', 'managed', 'within', 'My', 'Activity', '.']\n",
      "['Past', 'history', 'will', 'be', 'cleared', 'during', 'this', 'upgrade', ',', 'so', 'make', 'sure', 'to', 'save', 'translations', 'you', 'want', 'to', 'remember', 'for', 'ease', 'of', 'access', 'later', '.']\n",
      "['Translation', 'history', 'will', 'soon', 'only', 'be', 'available', 'when', 'you', 'are', 'signed', 'in', 'and', 'will', 'be', 'centrally', 'managed', 'within', 'My', 'Activity', '.']\n",
      "['Past', 'history', 'will', 'be', 'cleared', 'during', 'this', 'upgrade', ',', 'so', 'make', 'sure', 'to', 'save', 'translations', 'you', 'want', 'to', 'remember', 'for', 'ease', 'of', 'access', 'later', '.']\n",
      "['Translation', 'history', 'will', 'soon', 'only', 'be', 'available', 'when', 'you', 'are', 'signed', 'in', 'and', 'will', 'be', 'centrally', 'managed', 'within', 'My', 'Activity', '.']\n",
      "['Past', 'history', 'will', 'be', 'cleared', 'during', 'this', 'upgrade', ',', 'so', 'make', 'sure', 'to', 'save', 'translations', 'you', 'want', 'to', 'remember', 'for', 'ease', 'of', 'access', 'later', '.']\n",
      "['Translation', 'history', 'will', 'soon', 'only', 'be', 'available', 'when', 'you', 'are', 'signed', 'in', 'and', 'will', 'be', 'centrally', 'managed', 'within', 'My', 'Activity', '.']\n",
      "['Past', 'history', 'will', 'be', 'cleared', 'during', 'this', 'upgrade', ',', 'so', 'make', 'sure', 'to', 'save', 'translations', 'you', 'want', 'to', 'remember', 'for', 'ease', 'of', 'access', 'later', '.']\n",
      "['Translation', 'history', 'will', 'soon', 'only', 'be', 'available', 'when', 'you', 'are', 'signed', 'in', 'and', 'will', 'be', 'centrally', 'managed', 'within', 'My', 'Activity', '.']\n",
      "['Past', 'history', 'will', 'be', 'cleared', 'during', 'this', 'upgrade', ',', 'so', 'make', 'sure', 'to', 'save', 'translations', 'you', 'want', 'to', 'remember', 'for', 'ease', 'of', 'access', 'later', '.']\n",
      "['Translation', 'history', 'will', 'soon', 'only', 'be', 'available', 'when', 'you', 'are', 'signed', 'in', 'and', 'will', 'be', 'centrally', 'managed', 'within', 'My', 'Activity', '.']\n",
      "['Past', 'history', 'will', 'be', 'cleared', 'during', 'this', 'upgrade', ',', 'so', 'make', 'sure', 'to', 'save', 'translations', 'you', 'want', 'to', 'remember', 'for', 'ease', 'of', 'access', 'later', '.']\n",
      "['Translation', 'history', 'will', 'soon', 'only', 'be', 'available', 'when', 'you', 'are', 'signed', 'in', 'and', 'will', 'be', 'centrally', 'managed', 'within', 'My', 'Activity', '.']\n",
      "['Past', 'history', 'will', 'be', 'cleared', 'during', 'this', 'upgrade', ',', 'so', 'make', 'sure', 'to', 'save', 'translations', 'you', 'want', 'to', 'remember', 'for', 'ease', 'of', 'access', 'later', '.']\n",
      "['Translation', 'history', 'will', 'soon', 'only', 'be', 'available', 'when', 'you', 'are', 'signed', 'in', 'and', 'will', 'be', 'centrally', 'managed', 'within', 'My', 'Activity', '.']\n",
      "['Past', 'history', 'will', 'be', 'cleared', 'during', 'this', 'upgrade', ',', 'so', 'make', 'sure', 'to', 'save', 'translations', 'you', 'want', 'to', 'remember', 'for', 'ease', 'of', 'access', 'later', '.']\n",
      "['Translation', 'history', 'will', 'soon', 'only', 'be', 'available', 'when', 'you', 'are', 'signed', 'in', 'and', 'will', 'be', 'centrally', 'managed', 'within', 'My', 'Activity', '.']\n",
      "['Past', 'history', 'will', 'be', 'cleared', 'during', 'this', 'upgrade', ',', 'so', 'make', 'sure', 'to', 'save', 'translations', 'you', 'want', 'to', 'remember', 'for', 'ease', 'of', 'access', 'later', '.']\n",
      "['Translation', 'history', 'will', 'soon', 'only', 'be', 'available', 'when', 'you', 'are', 'signed', 'in', 'and', 'will', 'be', 'centrally', 'managed', 'within', 'My', 'Activity', '.']\n",
      "['Past', 'history', 'will', 'be', 'cleared', 'during', 'this', 'upgrade', ',', 'so', 'make', 'sure', 'to', 'save', 'translations', 'you', 'want', 'to', 'remember', 'for', 'ease', 'of', 'access', 'later', '.']\n",
      "['Translation', 'history', 'will', 'soon', 'only', 'be', 'available', 'when', 'you', 'are', 'signed', 'in', 'and', 'will', 'be', 'centrally', 'managed', 'within', 'My', 'Activity', '.']\n",
      "['Past', 'history', 'will', 'be', 'cleared', 'during', 'this', 'upgrade', ',', 'so', 'make', 'sure', 'to', 'save', 'translations', 'you', 'want', 'to', 'remember', 'for', 'ease', 'of', 'access', 'later', '.']\n",
      "[('Past', 'NNP'), ('history', 'NN'), ('will', 'MD'), ('be', 'VB'), ('cleared', 'VBN'), ('during', 'IN'), ('this', 'DT'), ('upgrade', 'NN'), (',', ','), ('so', 'RB'), ('make', 'JJ'), ('sure', 'NN'), ('to', 'TO'), ('save', 'VB'), ('translations', 'NNS'), ('you', 'PRP'), ('want', 'VBP'), ('to', 'TO'), ('remember', 'VB'), ('for', 'IN'), ('ease', 'NN'), ('of', 'IN'), ('access', 'NN'), ('later', 'RB'), ('.', '.')]\n"
     ]
    }
   ],
   "source": [
    "texts = \"\"\"Translation history will soon only be available when you are signed in and will be centrally managed within My Activity. Past history will be cleared during this upgrade, so make sure to save translations you want to remember for ease of access later.\"\"\"\n",
    "import nltk\n",
    "for text in texts:\n",
    "    sentences = nltk.sent_tokenize(texts)\n",
    "    for sentence in sentences:\n",
    "        words = nltk.word_tokenize(sentence)\n",
    "        print(words)"
   ]
  },
  {
   "cell_type": "code",
   "execution_count": 56,
   "metadata": {},
   "outputs": [
    {
     "name": "stdout",
     "output_type": "stream",
     "text": [
      "[('Past', 'NNP'), ('history', 'NN'), ('will', 'MD'), ('be', 'VB'), ('cleared', 'VBN'), ('during', 'IN'), ('this', 'DT'), ('upgrade', 'NN'), (',', ','), ('so', 'RB'), ('make', 'JJ'), ('sure', 'NN'), ('to', 'TO'), ('save', 'VB'), ('translations', 'NNS'), ('you', 'PRP'), ('want', 'VBP'), ('to', 'TO'), ('remember', 'VB'), ('for', 'IN'), ('ease', 'NN'), ('of', 'IN'), ('access', 'NN'), ('later', 'RB'), ('.', '.')]\n"
     ]
    }
   ],
   "source": [
    "tagged = nltk.pos_tag(words)\n",
    "print(tagged)"
   ]
  },
  {
   "cell_type": "code",
   "execution_count": null,
   "metadata": {},
   "outputs": [],
   "source": []
  }
 ],
 "metadata": {
  "kernelspec": {
   "display_name": "Python 3",
   "language": "python",
   "name": "python3"
  },
  "language_info": {
   "codemirror_mode": {
    "name": "ipython",
    "version": 3
   },
   "file_extension": ".py",
   "mimetype": "text/x-python",
   "name": "python",
   "nbconvert_exporter": "python",
   "pygments_lexer": "ipython3",
   "version": "3.7.3"
  }
 },
 "nbformat": 4,
 "nbformat_minor": 2
}
