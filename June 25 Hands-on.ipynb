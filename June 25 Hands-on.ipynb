{
 "cells": [
  {
   "cell_type": "code",
   "execution_count": 1,
   "metadata": {},
   "outputs": [],
   "source": [
    "import nltk"
   ]
  },
  {
   "cell_type": "code",
   "execution_count": 2,
   "metadata": {},
   "outputs": [],
   "source": [
    "sentence = [(\"the\", \"DT\"), (\"little\", \"JJ\"), (\"yellow\", \"JJ\"),(\"dog\", \"NN\"), (\"barked\", \"VBD\"), (\"at\", \"IN\"),  (\"the\", \"DT\"), (\"cat\", \"NN\")]\n",
    " \n",
    "\n",
    "grammar = \"NP: {<DT>?<JJ>*<NN>}\""
   ]
  },
  {
   "cell_type": "code",
   "execution_count": 4,
   "metadata": {},
   "outputs": [],
   "source": [
    "cp = nltk.RegexpParser(grammar) #RE is ready in Cp"
   ]
  },
  {
   "cell_type": "code",
   "execution_count": 5,
   "metadata": {},
   "outputs": [],
   "source": [
    "result = cp.parse(sentence) #entire doc is parsed through the filter"
   ]
  },
  {
   "cell_type": "code",
   "execution_count": 6,
   "metadata": {},
   "outputs": [
    {
     "name": "stdout",
     "output_type": "stream",
     "text": [
      "(S\n",
      "  (NP the/DT little/JJ yellow/JJ dog/NN)\n",
      "  barked/VBD\n",
      "  at/IN\n",
      "  (NP the/DT cat/NN))\n"
     ]
    }
   ],
   "source": [
    "print(result)"
   ]
  },
  {
   "cell_type": "code",
   "execution_count": 7,
   "metadata": {},
   "outputs": [],
   "source": [
    "result.draw()"
   ]
  },
  {
   "cell_type": "code",
   "execution_count": 52,
   "metadata": {},
   "outputs": [],
   "source": [
    "sentence = \"\"\"I am pleased to recommend MrXX for an MS in Computer Science at your esteemed university. I have known him since his second year. He was my student in the 3rd semester (2nd year), where I taught him the course of Database Management Systems. \"\"\"\n",
    "tken = nltk.word_tokenize(sentence)\n",
    "tags = nltk.pos_tag(tken)\n",
    "result = cp.parse(tags)"
   ]
  },
  {
   "cell_type": "code",
   "execution_count": 53,
   "metadata": {},
   "outputs": [
    {
     "name": "stdout",
     "output_type": "stream",
     "text": [
      "(S\n",
      "  I/PRP\n",
      "  am/VBP\n",
      "  pleased/JJ\n",
      "  to/TO\n",
      "  recommend/VB\n",
      "  MrXX/NNP\n",
      "  for/IN\n",
      "  an/DT\n",
      "  MS/NNP\n",
      "  in/IN\n",
      "  Computer/NNP\n",
      "  Science/NNP\n",
      "  at/IN\n",
      "  your/PRP$\n",
      "  (NP esteemed/JJ university/NN)\n",
      "  ./.\n",
      "  I/PRP\n",
      "  have/VBP\n",
      "  known/VBN\n",
      "  him/PRP\n",
      "  since/IN\n",
      "  his/PRP$\n",
      "  (NP second/JJ year/NN)\n",
      "  ./.\n",
      "  He/PRP\n",
      "  was/VBD\n",
      "  my/PRP$\n",
      "  (NP student/NN)\n",
      "  in/IN\n",
      "  the/DT\n",
      "  3rd/CD\n",
      "  (NP semester/NN)\n",
      "  (/(\n",
      "  2nd/CD\n",
      "  (NP year/NN)\n",
      "  )/)\n",
      "  ,/,\n",
      "  where/WRB\n",
      "  I/PRP\n",
      "  taught/VBD\n",
      "  him/PRP\n",
      "  the/DT\n",
      "  (NP course/NN)\n",
      "  of/IN\n",
      "  Database/NNP\n",
      "  Management/NNP\n",
      "  Systems/NNPS\n",
      "  ./.)\n"
     ]
    }
   ],
   "source": [
    "print(result)"
   ]
  },
  {
   "cell_type": "code",
   "execution_count": 14,
   "metadata": {},
   "outputs": [],
   "source": [
    "result.draw()"
   ]
  },
  {
   "cell_type": "code",
   "execution_count": 55,
   "metadata": {},
   "outputs": [],
   "source": [
    "chunks = nltk.ne_chunk(tags)"
   ]
  },
  {
   "cell_type": "code",
   "execution_count": 28,
   "metadata": {},
   "outputs": [
    {
     "name": "stdout",
     "output_type": "stream",
     "text": [
      "(S\n",
      "  I/PRP\n",
      "   /VBP\n",
      "  a/DT\n",
      "  m/NN\n",
      "   /NNP\n",
      "  p/NN\n",
      "  l/NN\n",
      "  e/VBZ\n",
      "  a/DT\n",
      "  s/JJ\n",
      "  e/NN\n",
      "  d/NN\n",
      "   /NNP\n",
      "  t/NN\n",
      "  o/NN\n",
      "   /NNP\n",
      "  r/NN\n",
      "  e/NN\n",
      "  c/VBP\n",
      "  o/JJ\n",
      "  m/NN\n",
      "  m/NN\n",
      "  e/NN\n",
      "  n/JJ\n",
      "  d/NN\n",
      "   /NNP\n",
      "  M/NNP\n",
      "  r/NN\n",
      "  X/NNP\n",
      "  X/NNP\n",
      "   /NNP\n",
      "  f/VBD\n",
      "  o/JJ\n",
      "  r/NN\n",
      "   /VBD\n",
      "  a/DT\n",
      "  n/JJ\n",
      "   /NNP\n",
      "  M/NNP\n",
      "  S/NNP\n",
      "   /NNP\n",
      "  i/NN\n",
      "  n/VBP\n",
      "   /NNP\n",
      "  C/NNP\n",
      "  o/MD\n",
      "  m/VB\n",
      "  p/JJ\n",
      "  u/JJ\n",
      "  t/NN\n",
      "  e/NN\n",
      "  r/NN\n",
      "   /NNP\n",
      "  S/NNP\n",
      "  c/NN\n",
      "  i/NN\n",
      "  e/VBP\n",
      "  n/JJ\n",
      "  c/NN\n",
      "  e/NN\n",
      "   /VBZ\n",
      "  a/DT\n",
      "  t/NN\n",
      "   /NNP\n",
      "  y/NNP\n",
      "  o/MD\n",
      "  u/VB\n",
      "  r/NN\n",
      "   /NNP\n",
      "  e/NN\n",
      "  s/NN\n",
      "  t/NN\n",
      "  e/NN\n",
      "  e/VBP\n",
      "  m/NN\n",
      "  e/NN\n",
      "  d/NN\n",
      "   /NNP\n",
      "  u/JJ\n",
      "  n/NN\n",
      "  i/NN\n",
      "  v/VBP\n",
      "  e/NN\n",
      "  r/NN\n",
      "  s/NN\n",
      "  i/NN\n",
      "  t/VBP\n",
      "  y/NN\n",
      "  ./.\n",
      "   /NN\n",
      "  I/PRP\n",
      "   /VBP\n",
      "  h/PDT\n",
      "  a/DT\n",
      "  v/NN\n",
      "  e/NN\n",
      "   /NNP\n",
      "  k/NN\n",
      "  n/NNP\n",
      "  o/VBZ\n",
      "  w/JJ\n",
      "  n/JJ\n",
      "   /NN\n",
      "  h/NN\n",
      "  i/JJ\n",
      "  m/VBP\n",
      "   /JJ\n",
      "  s/NN\n",
      "  i/NN\n",
      "  n/VBP\n",
      "  c/NN\n",
      "  e/NN\n",
      "   /NNP\n",
      "  h/NN\n",
      "  i/NN\n",
      "  s/VBP\n",
      "   /JJ\n",
      "  s/NN\n",
      "  e/NN\n",
      "  c/VBP\n",
      "  o/JJ\n",
      "  n/JJ\n",
      "  d/NN\n",
      "   /NNP\n",
      "  y/NNP\n",
      "  e/VBZ\n",
      "  a/DT\n",
      "  r/NN\n",
      "  ./.\n",
      "   /CC\n",
      "  H/NNP\n",
      "  e/VBP\n",
      "   /NNP\n",
      "  w/VBP\n",
      "  a/DT\n",
      "  s/NN\n",
      "   /NNP\n",
      "  m/NN\n",
      "  y/NN\n",
      "   /NNP\n",
      "  s/NN\n",
      "  t/NN\n",
      "  u/JJ\n",
      "  d/NN\n",
      "  e/NN\n",
      "  n/JJ\n",
      "  t/NN\n",
      "   /NN\n",
      "  i/NN\n",
      "  n/VBP\n",
      "   /JJ\n",
      "  t/NN\n",
      "  h/NN\n",
      "  e/NN\n",
      "   /VBD\n",
      "  3/CD\n",
      "  r/NN\n",
      "  d/NN\n",
      "   /NNP\n",
      "  s/NN\n",
      "  e/NN\n",
      "  m/NN\n",
      "  e/NN\n",
      "  s/NN\n",
      "  t/NN\n",
      "  e/NN\n",
      "  r/NN\n",
      "   /NNP\n",
      "  (/(\n",
      "  2/CD\n",
      "  n/RB\n",
      "  d/JJ\n",
      "   /NNP\n",
      "  y/NN\n",
      "  e/VBZ\n",
      "  a/DT\n",
      "  r/NN\n",
      "  )/)\n",
      "  ,/,\n",
      "   /JJ\n",
      "  w/NN\n",
      "  h/NN\n",
      "  e/NN\n",
      "  r/NN\n",
      "  e/NN\n",
      "   /NN\n",
      "  I/PRP\n",
      "   /VBP\n",
      "  t/VB\n",
      "  a/DT\n",
      "  u/JJ\n",
      "  g/NN\n",
      "  h/NN\n",
      "  t/NN\n",
      "   /NNP\n",
      "  h/NN\n",
      "  i/NN\n",
      "  m/VBP\n",
      "   /JJ\n",
      "  t/NN\n",
      "  h/NN\n",
      "  e/NN\n",
      "   /NNP\n",
      "  c/VBZ\n",
      "  o/JJ\n",
      "  u/JJ\n",
      "  r/NN\n",
      "  s/NN\n",
      "  e/NN\n",
      "   /NNP\n",
      "  o/VBZ\n",
      "  f/JJ\n",
      "   /NNP\n",
      "  D/NNP\n",
      "  a/DT\n",
      "  t/NN\n",
      "  a/DT\n",
      "  b/NN\n",
      "  a/DT\n",
      "  s/NN\n",
      "  e/NN\n",
      "   /NNP\n",
      "  M/NNP\n",
      "  a/DT\n",
      "  n/NN\n",
      "  a/DT\n",
      "  g/NN\n",
      "  e/NN\n",
      "  m/NN\n",
      "  e/NN\n",
      "  n/JJ\n",
      "  t/NN\n",
      "   /NNP\n",
      "  S/NNP\n",
      "  y/NNP\n",
      "  s/VBD\n",
      "  t/JJ\n",
      "  e/NN\n",
      "  m/NN\n",
      "  s/NN\n",
      "  ./.\n",
      "   /NN)\n"
     ]
    }
   ],
   "source": [
    "print(chunks)"
   ]
  },
  {
   "cell_type": "code",
   "execution_count": 22,
   "metadata": {},
   "outputs": [],
   "source": [
    "chunks.draw()"
   ]
  },
  {
   "cell_type": "markdown",
   "metadata": {},
   "source": [
    "# NER"
   ]
  },
  {
   "cell_type": "code",
   "execution_count": 56,
   "metadata": {},
   "outputs": [],
   "source": [
    "import spacy\n",
    "nlp = spacy.load('en_core_web_sm')"
   ]
  },
  {
   "cell_type": "code",
   "execution_count": 60,
   "metadata": {},
   "outputs": [
    {
     "name": "stdout",
     "output_type": "stream",
     "text": [
      "Google ORG\n",
      "Larry Page PERSON\n",
      "Sergey Brin PERSON\n",
      "the United States of America GPE\n",
      "one CARDINAL\n"
     ]
    }
   ],
   "source": [
    "example = \"Google, a company founded by Larry Page and Sergey Brin in the United States of America \"\\\n",
    "+ \"has one of the world’s most advanced search engines.\"\n",
    "\n",
    "doc = nlp(example)\n",
    "\n",
    "for ent in doc.ents:\n",
    "    print(ent.text, ent.label_)"
   ]
  },
  {
   "cell_type": "code",
   "execution_count": 61,
   "metadata": {},
   "outputs": [
    {
     "ename": "ImportError",
     "evalue": "cannot import name 'display' from 'spacy' (C:\\Users\\hp\\Anaconda3\\lib\\site-packages\\spacy\\__init__.py)",
     "output_type": "error",
     "traceback": [
      "\u001b[1;31m---------------------------------------------------------------------------\u001b[0m",
      "\u001b[1;31mImportError\u001b[0m                               Traceback (most recent call last)",
      "\u001b[1;32m<ipython-input-61-51a98bf3b723>\u001b[0m in \u001b[0;36m<module>\u001b[1;34m\u001b[0m\n\u001b[1;32m----> 1\u001b[1;33m \u001b[1;32mfrom\u001b[0m \u001b[0mspacy\u001b[0m \u001b[1;32mimport\u001b[0m \u001b[0mdisplay\u001b[0m\u001b[1;33m\u001b[0m\u001b[1;33m\u001b[0m\u001b[0m\n\u001b[0m\u001b[0;32m      2\u001b[0m \u001b[0mdisplay\u001b[0m\u001b[1;33m.\u001b[0m\u001b[0mrender\u001b[0m\u001b[1;33m(\u001b[0m\u001b[0mdoc\u001b[0m\u001b[1;33m,\u001b[0m \u001b[0mstyle\u001b[0m\u001b[1;33m=\u001b[0m\u001b[1;34m'ent'\u001b[0m\u001b[1;33m)\u001b[0m\u001b[1;33m\u001b[0m\u001b[1;33m\u001b[0m\u001b[0m\n",
      "\u001b[1;31mImportError\u001b[0m: cannot import name 'display' from 'spacy' (C:\\Users\\hp\\Anaconda3\\lib\\site-packages\\spacy\\__init__.py)"
     ]
    }
   ],
   "source": [
    "from spacy import display\n",
    "display.render(doc, style='ent')"
   ]
  },
  {
   "cell_type": "code",
   "execution_count": 45,
   "metadata": {},
   "outputs": [],
   "source": []
  },
  {
   "cell_type": "code",
   "execution_count": 49,
   "metadata": {},
   "outputs": [],
   "source": []
  },
  {
   "cell_type": "code",
   "execution_count": null,
   "metadata": {},
   "outputs": [],
   "source": []
  },
  {
   "cell_type": "code",
   "execution_count": null,
   "metadata": {},
   "outputs": [],
   "source": []
  }
 ],
 "metadata": {
  "kernelspec": {
   "display_name": "Python 3",
   "language": "python",
   "name": "python3"
  },
  "language_info": {
   "codemirror_mode": {
    "name": "ipython",
    "version": 3
   },
   "file_extension": ".py",
   "mimetype": "text/x-python",
   "name": "python",
   "nbconvert_exporter": "python",
   "pygments_lexer": "ipython3",
   "version": "3.7.3"
  }
 },
 "nbformat": 4,
 "nbformat_minor": 2
}
