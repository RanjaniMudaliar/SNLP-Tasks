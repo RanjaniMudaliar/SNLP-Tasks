{
 "cells": [
  {
   "cell_type": "code",
   "execution_count": 1,
   "metadata": {},
   "outputs": [
    {
     "name": "stderr",
     "output_type": "stream",
     "text": [
      "Using TensorFlow backend.\n"
     ]
    }
   ],
   "source": [
    "from numpy import array\n",
    "from keras.preprocessing.text import one_hot\n",
    "from keras.preprocessing.sequence import pad_sequences\n",
    "from keras.models import Sequential\n",
    "from keras.layers import Dense\n",
    "from keras.layers import Flatten\n",
    "from keras.layers.embeddings import Embedding"
   ]
  },
  {
   "cell_type": "code",
   "execution_count": 2,
   "metadata": {},
   "outputs": [],
   "source": [
    "corpus = [\n",
    "    # Positive Reviews\n",
    "\n",
    "    'This is an excellent movie',\n",
    "    'The move was fantastic I like it',\n",
    "    'You should watch it is brilliant',\n",
    "    'Exceptionally good',\n",
    "    'Wonderfully directed and executed I like it',\n",
    "    'Its a fantastic series',\n",
    "    'Never watched such a brillent movie',\n",
    "    'It is a Wonderful movie',\n",
    "\n",
    "    # Negtive Reviews\n",
    "\n",
    "    \"horrible acting\",\n",
    "    'waste of money',\n",
    "    'pathetic picture',\n",
    "    'It was very boring',\n",
    "    'I did not like the movie',\n",
    "    'The movie was horrible',\n",
    "    'I will not recommend',\n",
    "    'The acting is pathetic'\n",
    "]"
   ]
  },
  {
   "cell_type": "code",
   "execution_count": 4,
   "metadata": {},
   "outputs": [],
   "source": [
    "#create label set for our data.\n",
    "sentiments = array([1,1,1,1,1,1,1,1,0,0,0,0,0,0,0,0])"
   ]
  },
  {
   "cell_type": "code",
   "execution_count": 5,
   "metadata": {},
   "outputs": [],
   "source": [
    "from nltk.tokenize import word_tokenize\n",
    "\n",
    "all_words = []\n",
    "for sent in corpus:\n",
    "    tokenize_word = word_tokenize(sent)\n",
    "    for word in tokenize_word:\n",
    "        all_words.append(word)"
   ]
  },
  {
   "cell_type": "code",
   "execution_count": 6,
   "metadata": {},
   "outputs": [
    {
     "name": "stdout",
     "output_type": "stream",
     "text": [
      "45\n"
     ]
    }
   ],
   "source": [
    "#we need unique words for embedding\n",
    "unique_words = set(all_words)\n",
    "print(len(unique_words))"
   ]
  },
  {
   "cell_type": "code",
   "execution_count": 8,
   "metadata": {},
   "outputs": [
    {
     "name": "stdout",
     "output_type": "stream",
     "text": [
      "[[1, 9, 8, 14, 14], [1, 2, 2, 3, 6, 12, 1], [5, 11, 10, 1, 9, 9], [1, 9], [5, 15, 1, 15, 6, 12, 1], [7, 2, 3, 13], [10, 9, 11, 2, 6, 14], [1, 9, 2, 5, 14], [7, 7], [14, 3, 13], [7, 5], [1, 2, 14, 3], [6, 2, 14, 12, 1, 14], [1, 14, 2, 7], [6, 12, 14, 9], [1, 7, 9, 7]]\n"
     ]
    }
   ],
   "source": [
    "#we are converting the words to numbers using one-hot coding\n",
    "vocab_length = len(corpus)\n",
    "embedded_sentences = [one_hot(sent, vocab_length) for sent in corpus]\n",
    "print(embedded_sentences )"
   ]
  },
  {
   "cell_type": "code",
   "execution_count": 9,
   "metadata": {},
   "outputs": [],
   "source": [
    "#lamda fun which is anonymous function to find the length of all the sentences\n",
    "word_count = lambda sentence: len(word_tokenize(sentence))\n",
    "longest_sentence = max(corpus, key=word_count)\n",
    "length_long_sentence = len(word_tokenize(longest_sentence))"
   ]
  },
  {
   "cell_type": "code",
   "execution_count": 10,
   "metadata": {},
   "outputs": [
    {
     "name": "stdout",
     "output_type": "stream",
     "text": [
      "[[ 1  9  8 14 14  0  0]\n",
      " [ 1  2  2  3  6 12  1]\n",
      " [ 5 11 10  1  9  9  0]\n",
      " [ 1  9  0  0  0  0  0]\n",
      " [ 5 15  1 15  6 12  1]\n",
      " [ 7  2  3 13  0  0  0]\n",
      " [10  9 11  2  6 14  0]\n",
      " [ 1  9  2  5 14  0  0]\n",
      " [ 7  7  0  0  0  0  0]\n",
      " [14  3 13  0  0  0  0]\n",
      " [ 7  5  0  0  0  0  0]\n",
      " [ 1  2 14  3  0  0  0]\n",
      " [ 6  2 14 12  1 14  0]\n",
      " [ 1 14  2  7  0  0  0]\n",
      " [ 6 12 14  9  0  0  0]\n",
      " [ 1  7  9  7  0  0  0]]\n"
     ]
    }
   ],
   "source": [
    "#pad the sentences with equal length\n",
    "padded_sentences = pad_sequences(embedded_sentences, length_long_sentence, padding='post')\n",
    "print(padded_sentences)"
   ]
  },
  {
   "cell_type": "code",
   "execution_count": 11,
   "metadata": {},
   "outputs": [],
   "source": [
    "#Everything is ready for sentiment analysis using embedding\n",
    "model = Sequential()\n",
    "model.add(Embedding(vocab_length, 20, input_length=length_long_sentence))\n",
    "model.add(Flatten())\n",
    "model.add(Dense(1, activation='sigmoid'))"
   ]
  },
  {
   "cell_type": "code",
   "execution_count": 12,
   "metadata": {},
   "outputs": [
    {
     "name": "stdout",
     "output_type": "stream",
     "text": [
      "WARNING:tensorflow:From C:\\Users\\hp\\Anaconda3\\lib\\site-packages\\tensorflow\\python\\ops\\nn_impl.py:180: add_dispatch_support.<locals>.wrapper (from tensorflow.python.ops.array_ops) is deprecated and will be removed in a future version.\n",
      "Instructions for updating:\n",
      "Use tf.where in 2.0, which has the same broadcast rule as np.where\n",
      "Model: \"sequential_1\"\n",
      "_________________________________________________________________\n",
      "Layer (type)                 Output Shape              Param #   \n",
      "=================================================================\n",
      "embedding_1 (Embedding)      (None, 7, 20)             320       \n",
      "_________________________________________________________________\n",
      "flatten_1 (Flatten)          (None, 140)               0         \n",
      "_________________________________________________________________\n",
      "dense_1 (Dense)              (None, 1)                 141       \n",
      "=================================================================\n",
      "Total params: 461\n",
      "Trainable params: 461\n",
      "Non-trainable params: 0\n",
      "_________________________________________________________________\n",
      "None\n"
     ]
    }
   ],
   "source": [
    "model.compile(optimizer='adam', loss='binary_crossentropy', metrics=['acc'])\n",
    "print(model.summary())"
   ]
  },
  {
   "cell_type": "code",
   "execution_count": 13,
   "metadata": {},
   "outputs": [
    {
     "name": "stdout",
     "output_type": "stream",
     "text": [
      "WARNING:tensorflow:From C:\\Users\\hp\\Anaconda3\\lib\\site-packages\\keras\\backend\\tensorflow_backend.py:422: The name tf.global_variables is deprecated. Please use tf.compat.v1.global_variables instead.\n",
      "\n",
      "Epoch 1/100\n",
      "16/16 [==============================] - 0s 20ms/step - loss: 0.6831 - acc: 0.5625\n",
      "Epoch 2/100\n",
      "16/16 [==============================] - 0s 120us/step - loss: 0.6800 - acc: 0.6875\n",
      "Epoch 3/100\n",
      "16/16 [==============================] - 0s 125us/step - loss: 0.6770 - acc: 0.6875\n",
      "Epoch 4/100\n",
      "16/16 [==============================] - 0s 187us/step - loss: 0.6740 - acc: 0.6875\n",
      "Epoch 5/100\n",
      "16/16 [==============================] - 0s 125us/step - loss: 0.6712 - acc: 0.7500\n",
      "Epoch 6/100\n",
      "16/16 [==============================] - 0s 187us/step - loss: 0.6682 - acc: 0.8125\n",
      "Epoch 7/100\n",
      "16/16 [==============================] - 0s 124us/step - loss: 0.6651 - acc: 0.8125\n",
      "Epoch 8/100\n",
      "16/16 [==============================] - 0s 164us/step - loss: 0.6622 - acc: 0.8750\n",
      "Epoch 9/100\n",
      "16/16 [==============================] - 0s 125us/step - loss: 0.6592 - acc: 0.8750\n",
      "Epoch 10/100\n",
      "16/16 [==============================] - 0s 154us/step - loss: 0.6562 - acc: 0.8750\n",
      "Epoch 11/100\n",
      "16/16 [==============================] - 0s 374us/step - loss: 0.6532 - acc: 0.8750\n",
      "Epoch 12/100\n",
      "16/16 [==============================] - 0s 132us/step - loss: 0.6502 - acc: 0.8750\n",
      "Epoch 13/100\n",
      "16/16 [==============================] - 0s 187us/step - loss: 0.6472 - acc: 0.8750\n",
      "Epoch 14/100\n",
      "16/16 [==============================] - 0s 156us/step - loss: 0.6441 - acc: 0.8750\n",
      "Epoch 15/100\n",
      "16/16 [==============================] - 0s 189us/step - loss: 0.6411 - acc: 0.8750\n",
      "Epoch 16/100\n",
      "16/16 [==============================] - 0s 363us/step - loss: 0.6380 - acc: 0.8750\n",
      "Epoch 17/100\n",
      "16/16 [==============================] - 0s 121us/step - loss: 0.6350 - acc: 0.8750\n",
      "Epoch 18/100\n",
      "16/16 [==============================] - 0s 187us/step - loss: 0.6319 - acc: 0.8750\n",
      "Epoch 19/100\n",
      "16/16 [==============================] - 0s 125us/step - loss: 0.6288 - acc: 0.8750\n",
      "Epoch 20/100\n",
      "16/16 [==============================] - 0s 125us/step - loss: 0.6257 - acc: 0.8750\n",
      "Epoch 21/100\n",
      "16/16 [==============================] - 0s 227us/step - loss: 0.6226 - acc: 0.8750\n",
      "Epoch 22/100\n",
      "16/16 [==============================] - 0s 121us/step - loss: 0.6195 - acc: 0.8750\n",
      "Epoch 23/100\n",
      "16/16 [==============================] - 0s 311us/step - loss: 0.6163 - acc: 0.8750\n",
      "Epoch 24/100\n",
      "16/16 [==============================] - 0s 125us/step - loss: 0.6131 - acc: 0.8750\n",
      "Epoch 25/100\n",
      "16/16 [==============================] - 0s 179us/step - loss: 0.6099 - acc: 0.8750\n",
      "Epoch 26/100\n",
      "16/16 [==============================] - 0s 125us/step - loss: 0.6067 - acc: 0.8750\n",
      "Epoch 27/100\n",
      "16/16 [==============================] - 0s 187us/step - loss: 0.6034 - acc: 0.8750\n",
      "Epoch 28/100\n",
      "16/16 [==============================] - 0s 436us/step - loss: 0.6002 - acc: 0.8750\n",
      "Epoch 29/100\n",
      "16/16 [==============================] - 0s 187us/step - loss: 0.5968 - acc: 0.8750\n",
      "Epoch 30/100\n",
      "16/16 [==============================] - 0s 249us/step - loss: 0.5935 - acc: 0.8750\n",
      "Epoch 31/100\n",
      "16/16 [==============================] - 0s 312us/step - loss: 0.5902 - acc: 0.8750\n",
      "Epoch 32/100\n",
      "16/16 [==============================] - 0s 125us/step - loss: 0.5867 - acc: 0.8750\n",
      "Epoch 33/100\n",
      "16/16 [==============================] - 0s 374us/step - loss: 0.5833 - acc: 0.8750\n",
      "Epoch 34/100\n",
      "16/16 [==============================] - 0s 125us/step - loss: 0.5799 - acc: 0.8750\n",
      "Epoch 35/100\n",
      "16/16 [==============================] - 0s 381us/step - loss: 0.5764 - acc: 0.8750\n",
      "Epoch 36/100\n",
      "16/16 [==============================] - 0s 125us/step - loss: 0.5729 - acc: 0.8750\n",
      "Epoch 37/100\n",
      "16/16 [==============================] - 0s 374us/step - loss: 0.5694 - acc: 0.8750\n",
      "Epoch 38/100\n",
      "16/16 [==============================] - 0s 187us/step - loss: 0.5659 - acc: 0.8750\n",
      "Epoch 39/100\n",
      "16/16 [==============================] - 0s 189us/step - loss: 0.5623 - acc: 0.8750\n",
      "Epoch 40/100\n",
      "16/16 [==============================] - 0s 187us/step - loss: 0.5586 - acc: 0.8750\n",
      "Epoch 41/100\n",
      "16/16 [==============================] - 0s 187us/step - loss: 0.5550 - acc: 0.8750\n",
      "Epoch 42/100\n",
      "16/16 [==============================] - 0s 125us/step - loss: 0.5514 - acc: 0.8750\n",
      "Epoch 43/100\n",
      "16/16 [==============================] - 0s 72us/step - loss: 0.5477 - acc: 0.8750\n",
      "Epoch 44/100\n",
      "16/16 [==============================] - 0s 187us/step - loss: 0.5440 - acc: 0.8750\n",
      "Epoch 45/100\n",
      "16/16 [==============================] - 0s 125us/step - loss: 0.5403 - acc: 0.8750\n",
      "Epoch 46/100\n",
      "16/16 [==============================] - 0s 125us/step - loss: 0.5365 - acc: 0.8750\n",
      "Epoch 47/100\n",
      "16/16 [==============================] - 0s 293us/step - loss: 0.5328 - acc: 0.8750\n",
      "Epoch 48/100\n",
      "16/16 [==============================] - 0s 125us/step - loss: 0.5290 - acc: 0.8750\n",
      "Epoch 49/100\n",
      "16/16 [==============================] - 0s 249us/step - loss: 0.5252 - acc: 0.8750\n",
      "Epoch 50/100\n",
      "16/16 [==============================] - 0s 125us/step - loss: 0.5214 - acc: 0.8750\n",
      "Epoch 51/100\n",
      "16/16 [==============================] - 0s 249us/step - loss: 0.5176 - acc: 0.8750\n",
      "Epoch 52/100\n",
      "16/16 [==============================] - 0s 122us/step - loss: 0.5137 - acc: 0.8750\n",
      "Epoch 53/100\n",
      "16/16 [==============================] - 0s 126us/step - loss: 0.5098 - acc: 0.8750\n",
      "Epoch 54/100\n",
      "16/16 [==============================] - 0s 125us/step - loss: 0.5059 - acc: 0.8750\n",
      "Epoch 55/100\n",
      "16/16 [==============================] - 0s 124us/step - loss: 0.5020 - acc: 0.8750\n",
      "Epoch 56/100\n",
      "16/16 [==============================] - 0s 125us/step - loss: 0.4981 - acc: 0.8750\n",
      "Epoch 57/100\n",
      "16/16 [==============================] - 0s 125us/step - loss: 0.4941 - acc: 0.8750\n",
      "Epoch 58/100\n",
      "16/16 [==============================] - 0s 249us/step - loss: 0.4902 - acc: 0.8750\n",
      "Epoch 59/100\n",
      "16/16 [==============================] - 0s 125us/step - loss: 0.4862 - acc: 0.8750\n",
      "Epoch 60/100\n",
      "16/16 [==============================] - 0s 236us/step - loss: 0.4822 - acc: 0.8750\n",
      "Epoch 61/100\n",
      "16/16 [==============================] - 0s 125us/step - loss: 0.4783 - acc: 0.8750\n",
      "Epoch 62/100\n",
      "16/16 [==============================] - 0s 185us/step - loss: 0.4743 - acc: 0.8750\n",
      "Epoch 63/100\n",
      "16/16 [==============================] - 0s 129us/step - loss: 0.4702 - acc: 0.8750\n",
      "Epoch 64/100\n",
      "16/16 [==============================] - 0s 187us/step - loss: 0.4662 - acc: 0.8750\n",
      "Epoch 65/100\n",
      "16/16 [==============================] - 0s 125us/step - loss: 0.4622 - acc: 0.8750\n",
      "Epoch 66/100\n",
      "16/16 [==============================] - 0s 187us/step - loss: 0.4582 - acc: 0.8750\n",
      "Epoch 67/100\n",
      "16/16 [==============================] - 0s 126us/step - loss: 0.4542 - acc: 0.8750\n",
      "Epoch 68/100\n",
      "16/16 [==============================] - 0s 125us/step - loss: 0.4502 - acc: 0.8750\n",
      "Epoch 69/100\n",
      "16/16 [==============================] - 0s 124us/step - loss: 0.4462 - acc: 0.8750\n",
      "Epoch 70/100\n",
      "16/16 [==============================] - 0s 125us/step - loss: 0.4422 - acc: 0.8750\n",
      "Epoch 71/100\n",
      "16/16 [==============================] - 0s 157us/step - loss: 0.4382 - acc: 0.8750\n",
      "Epoch 72/100\n",
      "16/16 [==============================] - 0s 187us/step - loss: 0.4342 - acc: 0.8750\n",
      "Epoch 73/100\n",
      "16/16 [==============================] - 0s 187us/step - loss: 0.4301 - acc: 0.8750\n",
      "Epoch 74/100\n",
      "16/16 [==============================] - 0s 76us/step - loss: 0.4261 - acc: 0.8750\n",
      "Epoch 75/100\n",
      "16/16 [==============================] - 0s 193us/step - loss: 0.4222 - acc: 0.8750\n",
      "Epoch 76/100\n",
      "16/16 [==============================] - 0s 62us/step - loss: 0.4182 - acc: 0.8750\n",
      "Epoch 77/100\n",
      "16/16 [==============================] - 0s 265us/step - loss: 0.4142 - acc: 0.8750\n",
      "Epoch 78/100\n",
      "16/16 [==============================] - 0s 184us/step - loss: 0.4102 - acc: 0.8750\n",
      "Epoch 79/100\n",
      "16/16 [==============================] - 0s 125us/step - loss: 0.4063 - acc: 0.8750\n",
      "Epoch 80/100\n",
      "16/16 [==============================] - 0s 125us/step - loss: 0.4023 - acc: 0.8750\n",
      "Epoch 81/100\n",
      "16/16 [==============================] - 0s 186us/step - loss: 0.3984 - acc: 0.8750\n",
      "Epoch 82/100\n",
      "16/16 [==============================] - 0s 135us/step - loss: 0.3945 - acc: 0.8750\n",
      "Epoch 83/100\n",
      "16/16 [==============================] - 0s 125us/step - loss: 0.3905 - acc: 0.8750\n"
     ]
    },
    {
     "name": "stdout",
     "output_type": "stream",
     "text": [
      "Epoch 84/100\n",
      "16/16 [==============================] - 0s 183us/step - loss: 0.3867 - acc: 0.8750\n",
      "Epoch 85/100\n",
      "16/16 [==============================] - 0s 65us/step - loss: 0.3828 - acc: 0.8750\n",
      "Epoch 86/100\n",
      "16/16 [==============================] - 0s 125us/step - loss: 0.3789 - acc: 0.9375\n",
      "Epoch 87/100\n",
      "16/16 [==============================] - 0s 194us/step - loss: 0.3751 - acc: 0.9375\n",
      "Epoch 88/100\n",
      "16/16 [==============================] - 0s 118us/step - loss: 0.3712 - acc: 0.9375\n",
      "Epoch 89/100\n",
      "16/16 [==============================] - 0s 122us/step - loss: 0.3674 - acc: 0.9375\n",
      "Epoch 90/100\n",
      "16/16 [==============================] - 0s 250us/step - loss: 0.3636 - acc: 0.9375\n",
      "Epoch 91/100\n",
      "16/16 [==============================] - 0s 125us/step - loss: 0.3599 - acc: 0.9375\n",
      "Epoch 92/100\n",
      "16/16 [==============================] - 0s 125us/step - loss: 0.3561 - acc: 0.9375\n",
      "Epoch 93/100\n",
      "16/16 [==============================] - 0s 187us/step - loss: 0.3524 - acc: 0.9375\n",
      "Epoch 94/100\n",
      "16/16 [==============================] - 0s 125us/step - loss: 0.3487 - acc: 0.9375\n",
      "Epoch 95/100\n",
      "16/16 [==============================] - 0s 125us/step - loss: 0.3450 - acc: 0.9375\n",
      "Epoch 96/100\n",
      "16/16 [==============================] - 0s 125us/step - loss: 0.3414 - acc: 0.9375\n",
      "Epoch 97/100\n",
      "16/16 [==============================] - 0s 125us/step - loss: 0.3377 - acc: 0.9375\n",
      "Epoch 98/100\n",
      "16/16 [==============================] - 0s 266us/step - loss: 0.3341 - acc: 0.9375\n",
      "Epoch 99/100\n",
      "16/16 [==============================] - 0s 149us/step - loss: 0.3305 - acc: 0.9375\n",
      "Epoch 100/100\n",
      "16/16 [==============================] - 0s 187us/step - loss: 0.3270 - acc: 0.9375\n"
     ]
    },
    {
     "data": {
      "text/plain": [
       "<keras.callbacks.callbacks.History at 0x2ccf558b208>"
      ]
     },
     "execution_count": 13,
     "metadata": {},
     "output_type": "execute_result"
    }
   ],
   "source": [
    "model.fit(padded_sentences, sentiments, epochs=100, verbose=1)"
   ]
  },
  {
   "cell_type": "code",
   "execution_count": 14,
   "metadata": {},
   "outputs": [
    {
     "name": "stdout",
     "output_type": "stream",
     "text": [
      "Accuracy: 93.750000\n"
     ]
    }
   ],
   "source": [
    "loss, accuracy = model.evaluate(padded_sentences, sentiments, verbose=0)\n",
    "print('Accuracy: %f' % (accuracy*100))"
   ]
  },
  {
   "cell_type": "code",
   "execution_count": null,
   "metadata": {},
   "outputs": [],
   "source": []
  }
 ],
 "metadata": {
  "kernelspec": {
   "display_name": "Python 3",
   "language": "python",
   "name": "python3"
  },
  "language_info": {
   "codemirror_mode": {
    "name": "ipython",
    "version": 3
   },
   "file_extension": ".py",
   "mimetype": "text/x-python",
   "name": "python",
   "nbconvert_exporter": "python",
   "pygments_lexer": "ipython3",
   "version": "3.7.3"
  }
 },
 "nbformat": 4,
 "nbformat_minor": 2
}
